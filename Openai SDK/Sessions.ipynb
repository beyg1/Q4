{
  "nbformat": 4,
  "nbformat_minor": 0,
  "metadata": {
    "colab": {
      "provenance": [],
      "authorship_tag": "ABX9TyOpOsqeegZDdod8APIVORhc",
      "include_colab_link": true
    },
    "kernelspec": {
      "name": "python3",
      "display_name": "Python 3"
    },
    "language_info": {
      "name": "python"
    }
  },
  "cells": [
    {
      "cell_type": "markdown",
      "metadata": {
        "id": "view-in-github",
        "colab_type": "text"
      },
      "source": [
        "<a href=\"https://colab.research.google.com/github/beyg1/Q4/blob/main/Openai%20SDK/Sessions.ipynb\" target=\"_parent\"><img src=\"https://colab.research.google.com/assets/colab-badge.svg\" alt=\"Open In Colab\"/></a>"
      ]
    },
    {
      "cell_type": "markdown",
      "source": [
        "##The Agents SDK introduces built-in session memory to automatically maintain conversation history across multiple agent runs, eliminating the need to manually handle .to_input_list() between turns.\n",
        "#This Push comes in support of context managment/mapping as context handling is still kind of difficult in agents framework"
      ],
      "metadata": {
        "id": "MnK7dYxKBb35"
      }
    },
    {
      "cell_type": "code",
      "source": [
        "!pip install -Uq openai-agents"
      ],
      "metadata": {
        "colab": {
          "base_uri": "https://localhost:8080/"
        },
        "id": "gNh6ZQxFOlGu",
        "outputId": "a5662631-015a-49ed-e331-60fe4aaef567"
      },
      "execution_count": 1,
      "outputs": [
        {
          "output_type": "stream",
          "name": "stdout",
          "text": [
            "\u001b[2K     \u001b[90m━━━━━━━━━━━━━━━━━━━━━━━━━━━━━━━━━━━━━━━━\u001b[0m \u001b[32m61.0/61.0 kB\u001b[0m \u001b[31m2.0 MB/s\u001b[0m eta \u001b[36m0:00:00\u001b[0m\n",
            "\u001b[2K   \u001b[90m━━━━━━━━━━━━━━━━━━━━━━━━━━━━━━━━━━━━━━━━\u001b[0m \u001b[32m161.1/161.1 kB\u001b[0m \u001b[31m7.9 MB/s\u001b[0m eta \u001b[36m0:00:00\u001b[0m\n",
            "\u001b[2K   \u001b[90m━━━━━━━━━━━━━━━━━━━━━━━━━━━━━━━━━━━━━━━━\u001b[0m \u001b[32m129.3/129.3 kB\u001b[0m \u001b[31m8.1 MB/s\u001b[0m eta \u001b[36m0:00:00\u001b[0m\n",
            "\u001b[2K   \u001b[90m━━━━━━━━━━━━━━━━━━━━━━━━━━━━━━━━━━━━━━━━\u001b[0m \u001b[32m158.5/158.5 kB\u001b[0m \u001b[31m9.2 MB/s\u001b[0m eta \u001b[36m0:00:00\u001b[0m\n",
            "\u001b[2K   \u001b[90m━━━━━━━━━━━━━━━━━━━━━━━━━━━━━━━━━━━━━━━━\u001b[0m \u001b[32m45.2/45.2 kB\u001b[0m \u001b[31m2.0 MB/s\u001b[0m eta \u001b[36m0:00:00\u001b[0m\n",
            "\u001b[?25h"
          ]
        }
      ]
    },
    {
      "cell_type": "code",
      "source": [
        "import nest_asyncio\n",
        "nest_asyncio.apply() #Make nb capable of running async functions"
      ],
      "metadata": {
        "id": "BKHPjGB0ZuyW"
      },
      "execution_count": 2,
      "outputs": []
    },
    {
      "cell_type": "code",
      "source": [
        "from google.colab import userdata\n",
        "GEMINI_API_KEY = userdata.get('GEMINI_API_KEY')"
      ],
      "metadata": {
        "id": "XvtZoVt4a8eL"
      },
      "execution_count": 3,
      "outputs": []
    },
    {
      "cell_type": "code",
      "source": [
        "from openai import AsyncOpenAI\n",
        "from agents import Agent, Runner, OpenAIChatCompletionsModel, set_tracing_disabled\n",
        "\n",
        "set_tracing_disabled(True)\n",
        "\n",
        "client = AsyncOpenAI(api_key=GEMINI_API_KEY, base_url=\"https://generativelanguage.googleapis.com/v1beta/openai/\")\n",
        "\n",
        "model = OpenAIChatCompletionsModel(\n",
        "    model = \"gemini-2.5-flash\",\n",
        "    openai_client = client\n",
        ")"
      ],
      "metadata": {
        "id": "v9QCh86vbdy3"
      },
      "execution_count": 5,
      "outputs": []
    },
    {
      "cell_type": "code",
      "source": [
        "# Agent Run without Sessions chat history being available.\n",
        "agent = Agent(name=\"Assistant\",\n",
        "              instructions = \"You are a helpful bot\",\n",
        "              model = model\n",
        "              )\n",
        "\n",
        "res = await Runner.run(agent, \"Yo! my man, what's up?\")\n",
        "print(res.final_output)"
      ],
      "metadata": {
        "colab": {
          "base_uri": "https://localhost:8080/"
        },
        "id": "zoAK0uFscOCR",
        "outputId": "ba6b448a-9a52-449f-d615-0a853ff8fd62"
      },
      "execution_count": 6,
      "outputs": [
        {
          "output_type": "stream",
          "name": "stdout",
          "text": [
            "Hey there! Not much, just chilling and ready to help if you got anything. What's up with you, my man?\n"
          ]
        }
      ]
    },
    {
      "cell_type": "code",
      "source": [
        "# Magic of Sessions, this is now the fourth agents sdk primitive\n",
        "from agents import SQLiteSession\n",
        "\n",
        "agent = Agent(\n",
        "    name=\"Assistant\",\n",
        "    instructions=\"Reply very concisely.\",\n",
        "    model = model\n",
        ")\n",
        "\n",
        "# Create a session instance with a session ID\n",
        "session = SQLiteSession(\"conversation_123\")\n",
        "\n",
        "# First turn\n",
        "result = await Runner.run(\n",
        "    agent,\n",
        "    \"What city is the Golden Gate Bridge in?\",\n",
        "    session=session\n",
        ")\n",
        "print(result.final_output)  # \"San Francisco\"\n",
        "\n",
        "# Second turn - agent automatically remembers previous context\n",
        "result = await Runner.run(\n",
        "    agent,\n",
        "    \"What state is it in?\",\n",
        "    session=session\n",
        ")\n",
        "print(result.final_output)  # \"California\"\n",
        "\n",
        "# Also works with synchronous runner\n",
        "result = Runner.run_sync(\n",
        "    agent,\n",
        "    \"What's the population?\",\n",
        "    session=session\n",
        ")\n",
        "print(result.final_output)  # \"Approximately 39 million\""
      ],
      "metadata": {
        "colab": {
          "base_uri": "https://localhost:8080/"
        },
        "id": "Upcpjm9geO8c",
        "outputId": "d2aea135-eb8b-4333-d787-07c936526a46"
      },
      "execution_count": 8,
      "outputs": [
        {
          "output_type": "stream",
          "name": "stdout",
          "text": [
            "San Francisco.\n",
            "California.\n",
            "Around 815,000.\n"
          ]
        }
      ]
    },
    {
      "cell_type": "code",
      "source": [
        "result = Runner.run_sync(\n",
        "    agent,\n",
        "    \"list my previous prompts from this session\",\n",
        "    session=session\n",
        ")\n",
        "print(result.final_output)"
      ],
      "metadata": {
        "colab": {
          "base_uri": "https://localhost:8080/"
        },
        "id": "DlERhCd8fGbz",
        "outputId": "4336e297-926b-4200-fe51-b79ee417edf6"
      },
      "execution_count": 10,
      "outputs": [
        {
          "output_type": "stream",
          "name": "stdout",
          "text": [
            "*   \"What city is the Golden Gate Bridge in?\"\n",
            "*   \"What state is it in?\"\n",
            "*   \"What's the population?\"\n",
            "*   \"list my previous prompts\"\n"
          ]
        }
      ]
    },
    {
      "cell_type": "code",
      "source": [
        "result = Runner.run_sync(\n",
        "    agent,\n",
        "    \"which city was it again?\",\n",
        "    session=session\n",
        ")\n",
        "print(result.final_output)"
      ],
      "metadata": {
        "colab": {
          "base_uri": "https://localhost:8080/"
        },
        "id": "Yia8LsiDffVQ",
        "outputId": "fa359533-e506-46cc-9a16-66d8bd4c7122"
      },
      "execution_count": 11,
      "outputs": [
        {
          "output_type": "stream",
          "name": "stdout",
          "text": [
            "San Francisco.\n"
          ]
        }
      ]
    },
    {
      "cell_type": "code",
      "source": [
        "result = Runner.run_sync(\n",
        "    agent,\n",
        "    \"&?\",\n",
        "    session=session\n",
        ")\n",
        "print(result.final_output)"
      ],
      "metadata": {
        "colab": {
          "base_uri": "https://localhost:8080/"
        },
        "id": "AmlYZBKzfo0I",
        "outputId": "105bf51d-6505-47ef-f463-e6731c5dd51e"
      },
      "execution_count": 12,
      "outputs": [
        {
          "output_type": "stream",
          "name": "stdout",
          "text": [
            "California.\n"
          ]
        }
      ]
    },
    {
      "cell_type": "markdown",
      "source": [
        "#So now we can see why Sessions is now the 4th primitive of the sdk.\n",
        "##Now, there are also few methods which we can use to manipulate Sessions\n",
        "\n",
        "1.   Using pop_item for corrections(edit)\n",
        "2.   Get all items in a session\n",
        "3.   Add new items to a session"
      ],
      "metadata": {
        "id": "sRRabR1wf0un"
      }
    },
    {
      "cell_type": "code",
      "source": [
        "# Get all items in a session\n",
        "items = await session.get_items()\n",
        "print(items)"
      ],
      "metadata": {
        "colab": {
          "base_uri": "https://localhost:8080/"
        },
        "id": "GuBTAzTrg9pi",
        "outputId": "2dde6e02-76f6-4a19-db89-a2ad31097eb9"
      },
      "execution_count": 20,
      "outputs": [
        {
          "output_type": "stream",
          "name": "stdout",
          "text": [
            "[{'content': 'What city is the Golden Gate Bridge in?', 'role': 'user'}, {'id': '__fake_id__', 'content': [{'annotations': [], 'text': 'San Francisco.', 'type': 'output_text'}], 'role': 'assistant', 'status': 'completed', 'type': 'message'}, {'content': 'What state is it in?', 'role': 'user'}, {'id': '__fake_id__', 'content': [{'annotations': [], 'text': 'California.', 'type': 'output_text'}], 'role': 'assistant', 'status': 'completed', 'type': 'message'}, {'content': \"What's the population?\", 'role': 'user'}, {'id': '__fake_id__', 'content': [{'annotations': [], 'text': 'Around 815,000.', 'type': 'output_text'}], 'role': 'assistant', 'status': 'completed', 'type': 'message'}, {'content': 'list my previous prompts', 'role': 'user'}, {'id': '__fake_id__', 'content': [{'annotations': [], 'text': \"I cannot access your previous prompts. I don't retain information from past interactions.\", 'type': 'output_text'}], 'role': 'assistant', 'status': 'completed', 'type': 'message'}, {'content': 'list my previous prompts from this session', 'role': 'user'}, {'id': '__fake_id__', 'content': [{'annotations': [], 'text': '*   \"What city is the Golden Gate Bridge in?\"\\n*   \"What state is it in?\"\\n*   \"What\\'s the population?\"\\n*   \"list my previous prompts\"', 'type': 'output_text'}], 'role': 'assistant', 'status': 'completed', 'type': 'message'}, {'content': 'which city was it again?', 'role': 'user'}, {'id': '__fake_id__', 'content': [{'annotations': [], 'text': 'San Francisco.', 'type': 'output_text'}], 'role': 'assistant', 'status': 'completed', 'type': 'message'}, {'content': '&?', 'role': 'user'}, {'id': '__fake_id__', 'content': [{'annotations': [], 'text': 'California.', 'type': 'output_text'}], 'role': 'assistant', 'status': 'completed', 'type': 'message'}, {'role': 'user', 'content': 'Hello'}, {'role': 'assistant', 'content': 'Hi there!'}, {'role': 'user', 'content': 'Hello'}, {'role': 'assistant', 'content': 'Hi there!'}]\n"
          ]
        }
      ]
    },
    {
      "cell_type": "code",
      "source": [
        "# Add new items to a session\n",
        "new_message = [\n",
        "    {\"role\": \"user\", \"content\": \"Hello\"},\n",
        "    {\"role\": \"assistant\", \"content\": \"Hi there!\"}\n",
        "]\n",
        "await session.add_items(new_message)\n",
        "print(items)"
      ],
      "metadata": {
        "colab": {
          "base_uri": "https://localhost:8080/"
        },
        "id": "wuO_aZCph15W",
        "outputId": "15457dd2-e352-4d8c-b3cb-21c96c9f65b2"
      },
      "execution_count": 30,
      "outputs": [
        {
          "output_type": "stream",
          "name": "stdout",
          "text": [
            "[{'content': 'What city is the Golden Gate Bridge in?', 'role': 'user'}, {'id': '__fake_id__', 'content': [{'annotations': [], 'text': 'San Francisco.', 'type': 'output_text'}], 'role': 'assistant', 'status': 'completed', 'type': 'message'}, {'content': 'What state is it in?', 'role': 'user'}, {'id': '__fake_id__', 'content': [{'annotations': [], 'text': 'California.', 'type': 'output_text'}], 'role': 'assistant', 'status': 'completed', 'type': 'message'}, {'content': \"What's the population?\", 'role': 'user'}, {'id': '__fake_id__', 'content': [{'annotations': [], 'text': 'Around 815,000.', 'type': 'output_text'}], 'role': 'assistant', 'status': 'completed', 'type': 'message'}, {'content': 'list my previous prompts', 'role': 'user'}, {'id': '__fake_id__', 'content': [{'annotations': [], 'text': \"I cannot access your previous prompts. I don't retain information from past interactions.\", 'type': 'output_text'}], 'role': 'assistant', 'status': 'completed', 'type': 'message'}, {'content': 'list my previous prompts from this session', 'role': 'user'}, {'id': '__fake_id__', 'content': [{'annotations': [], 'text': '*   \"What city is the Golden Gate Bridge in?\"\\n*   \"What state is it in?\"\\n*   \"What\\'s the population?\"\\n*   \"list my previous prompts\"', 'type': 'output_text'}], 'role': 'assistant', 'status': 'completed', 'type': 'message'}, {'content': 'which city was it again?', 'role': 'user'}, {'id': '__fake_id__', 'content': [{'annotations': [], 'text': 'San Francisco.', 'type': 'output_text'}], 'role': 'assistant', 'status': 'completed', 'type': 'message'}, {'content': '&?', 'role': 'user'}, {'id': '__fake_id__', 'content': [{'annotations': [], 'text': 'California.', 'type': 'output_text'}], 'role': 'assistant', 'status': 'completed', 'type': 'message'}, {'role': 'user', 'content': 'Hello'}, {'role': 'assistant', 'content': 'Hi there!'}, {'role': 'user', 'content': 'Hello'}, {'role': 'assistant', 'content': 'Hi there!'}]\n"
          ]
        }
      ]
    },
    {
      "cell_type": "code",
      "source": [
        "# Remove and return the most recent item\n",
        "last_item = await session.pop_item()\n",
        "print(last_item)  # {\"role\": \"assistant\", \"content\": \"Hi there!\"}"
      ],
      "metadata": {
        "colab": {
          "base_uri": "https://localhost:8080/"
        },
        "id": "8CLec0K2ifFS",
        "outputId": "e9b0cfc3-9fdf-447d-9d89-79cb644c4448"
      },
      "execution_count": 28,
      "outputs": [
        {
          "output_type": "stream",
          "name": "stdout",
          "text": [
            "{'id': '__fake_id__', 'content': [{'annotations': [], 'text': 'California.', 'type': 'output_text'}], 'role': 'assistant', 'status': 'completed', 'type': 'message'}\n"
          ]
        }
      ]
    },
    {
      "cell_type": "code",
      "source": [
        "# Clear all items from a session\n",
        "await session.clear_session()\n",
        "print(session)"
      ],
      "metadata": {
        "colab": {
          "base_uri": "https://localhost:8080/"
        },
        "id": "Lobn3Z05ijcr",
        "outputId": "86020aae-5304-445f-e37d-e5d02bbaed34"
      },
      "execution_count": 29,
      "outputs": [
        {
          "output_type": "stream",
          "name": "stdout",
          "text": [
            "<agents.memory.session.SQLiteSession object at 0x7d833b0db2d0>\n"
          ]
        }
      ]
    }
  ]
}