{
  "nbformat": 4,
  "nbformat_minor": 0,
  "metadata": {
    "colab": {
      "provenance": [],
      "authorship_tag": "ABX9TyPYk8B+WHCd6ZlSLOF7GDry",
      "include_colab_link": true
    },
    "kernelspec": {
      "name": "python3",
      "display_name": "Python 3"
    },
    "language_info": {
      "name": "python"
    }
  },
  "cells": [
    {
      "cell_type": "markdown",
      "metadata": {
        "id": "view-in-github",
        "colab_type": "text"
      },
      "source": [
        "<a href=\"https://colab.research.google.com/github/beyg1/Q4/blob/main/Openai%20SDK/Concepts_Callables_Generics.ipynb\" target=\"_parent\"><img src=\"https://colab.research.google.com/assets/colab-badge.svg\" alt=\"Open In Colab\"/></a>"
      ]
    },
    {
      "cell_type": "markdown",
      "source": [
        "#**Callables**\n",
        "## In Python, a callable is anything that you can \"call\" to do something, you're asking it to execute some code or perform an action. You do this by using parentheses () after its name.\n",
        "### Python is quite flexible, and several things can act as callables: Functions, Methods, Classes, Objects.\n"
      ],
      "metadata": {
        "id": "kbnTtELDwoLA"
      }
    },
    {
      "cell_type": "code",
      "execution_count": 2,
      "metadata": {
        "colab": {
          "base_uri": "https://localhost:8080/"
        },
        "id": "1WSMvl28q2G0",
        "outputId": "c2d79201-c353-48d6-e6ce-77bec901c37d"
      },
      "outputs": [
        {
          "output_type": "stream",
          "name": "stdout",
          "text": [
            "typing.Callable[[int, int], str]\n"
          ]
        }
      ],
      "source": [
        "from typing import Callable\n",
        "\n",
        "# A callable that takes two integers and returns a string\n",
        "MyFuncType = Callable[[int, int], str]\n",
        "print(MyFuncType)"
      ]
    },
    {
      "cell_type": "code",
      "source": [
        "def my_function(): #simple function\n",
        "  print(\"Function called!\")\n",
        "\n",
        "print(callable(my_function)) # Output: True\n",
        "print(callable(123))         # Output: False (you can't call a number)"
      ],
      "metadata": {
        "colab": {
          "base_uri": "https://localhost:8080/"
        },
        "id": "bNyBEwK6yZUX",
        "outputId": "e7878572-5d61-4d5f-c13d-469e59167eec"
      },
      "execution_count": 3,
      "outputs": [
        {
          "output_type": "stream",
          "name": "stdout",
          "text": [
            "True\n",
            "False\n"
          ]
        }
      ]
    },
    {
      "cell_type": "code",
      "source": [
        "# 1. A simple function (callable)\n",
        "def greet(name):\n",
        "  \"\"\"This function greets the person passed in as a parameter.\"\"\"\n",
        "  print(f\"Hello, {name}!\")\n",
        "\n",
        "# Calling the function\n",
        "greet(\"Alice\")  # Output: Hello, Alice!\n",
        "print(f\"Is 'greet' callable? {callable(greet)}\") # Output: Is 'greet' callable? True\n",
        "print(\"-\" * 20) # Just a separator\n",
        "print(callable(greet))\n",
        "print(\"-\" * 20) # Just a separator\n",
        "print(callable(greet(\"Alison\")))\n",
        "#When greet(\"Ali\") is executed, it prints \"Hello, Ali!\" to the console and\n",
        "#then the function finishes. The greet function doesn't explicitly return a\n",
        "#value, so by default, it returns None. The callable() function is then called\n",
        "#with None. Since None is not a callable object, callable(None) will return False."
      ],
      "metadata": {
        "colab": {
          "base_uri": "https://localhost:8080/"
        },
        "collapsed": true,
        "id": "INEWUoB_zmhP",
        "outputId": "8df1afe6-4831-483c-ce08-3e178e6a528e"
      },
      "execution_count": 4,
      "outputs": [
        {
          "output_type": "stream",
          "name": "stdout",
          "text": [
            "Hello, Alice!\n",
            "Is 'greet' callable? True\n",
            "--------------------\n",
            "True\n",
            "--------------------\n",
            "Hello, Alison!\n",
            "False\n"
          ]
        }
      ]
    },
    {
      "cell_type": "markdown",
      "source": [
        "#**Generics**\n",
        "## generics allow you to write functions, classes, or data structures that can operate on a variety of data types (kinda like ANY) without losing information about those types (ANY looses info on what type it is). You can think of them as creating \"placeholders\" for types that will be specified later when the function or class is used."
      ],
      "metadata": {
        "id": "EDc6OArk1b7a"
      }
    },
    {
      "cell_type": "markdown",
      "source": [
        "Why Use Generics When Python Lets You Pass Any List?\n",
        "1.   Type Checking (you declare something like List[str] or List[int], and a type checker will immediately flag if you pass the wrong type)\n",
        "2.   Code Clarity and Intent\n",
        "3.   Improved Tooling Support ( if a function returns T, your IDE will automatically know the returned type is str for a List[str], saving time when using the result elsewhere in your code.)\n",
        "4.   Future-Proofing (As projects grow more complex and data structures become nested, generics help keep track of types. This is especially crucial in large-scale applications like production AI systems, where data consistency and correctness are paramount.)\n",
        "5.    Avoiding Silent Logic Errors\n",
        "\n",
        "(Without generics, a developer could pass any list, perhaps by mistake. You might not catch it until it causes a subtle bug (like a TypeError in production).\n",
        "By declaring generic types, the mismatch is caught early, which often saves hours of debugging.)\n",
        "\n"
      ],
      "metadata": {
        "id": "rlSdov4W4jm5"
      }
    },
    {
      "cell_type": "code",
      "source": [
        "from typing import TypeVar, List, Optional\n",
        "\n",
        "# 1. Declare a Type Variable\n",
        "# We create a TypeVar called 'T'. This 'T' can represent any type.\n",
        "# It's a convention to use single capital letters like T, U, K, V for TypeVars.\n",
        "T = TypeVar('T')\n",
        "\n",
        "# 2. Create a Generic Function\n",
        "def get_first_item(items: List[T]) -> Optional[T]:\n",
        "  \"\"\"\n",
        "  Returns the first item from a list.\n",
        "  The list can contain items of any type (specified by T).\n",
        "  Returns None if the list is empty.\n",
        "  \"\"\"\n",
        "  if items:\n",
        "    return items[0]\n",
        "  return None\n",
        "\n",
        "# --- Using the generic function ---\n",
        "\n",
        "# Example 1: With a list of integers\n",
        "numbers: List[int] = [10, 20, 30]\n",
        "first_number: Optional[int] = get_first_item(numbers)\n",
        "print(f\"Original list (integers): {numbers}\")\n",
        "print(f\"First item: {first_number}\")\n",
        "if first_number is not None:\n",
        "    print(f\"Type of first_number: {type(first_number)}\") # Will be <class 'int'>\n",
        "\n",
        "print(\"-\" * 30)"
      ],
      "metadata": {
        "colab": {
          "base_uri": "https://localhost:8080/"
        },
        "id": "Vmn8GXnG5hqb",
        "outputId": "f9d37eff-c1cd-492f-ea1e-90f43115e9f3"
      },
      "execution_count": 5,
      "outputs": [
        {
          "output_type": "stream",
          "name": "stdout",
          "text": [
            "Original list (integers): [10, 20, 30]\n",
            "First item: 10\n",
            "Type of first_number: <class 'int'>\n",
            "------------------------------\n"
          ]
        }
      ]
    },
    {
      "cell_type": "markdown",
      "source": [
        "# --- Generics with Classes ---"
      ],
      "metadata": {
        "id": "TxTcrt848E4J"
      }
    },
    {
      "cell_type": "code",
      "source": [
        "from typing import Generic, TypeVar, ClassVar\n",
        "from dataclasses import dataclass, field\n",
        "\n",
        "# Type variable for generic typing\n",
        "T = TypeVar('T')\n",
        "\n",
        "@dataclass\n",
        "class Stack(Generic[T]):\n",
        "    items: List[T] = field(default_factory=list)\n",
        "    limit: ClassVar[int] = 10\n",
        "\n",
        "    def push(self, item: T) -> None:\n",
        "        self.items.append(item)\n",
        "\n",
        "    def pop(self) -> T:\n",
        "        return self.items.pop()\n",
        "\n",
        "stack_of_ints = Stack[int]() #This creates an instance of the Stack class\n",
        "                             # where the type variable T is specified as int\n",
        "print(stack_of_ints)      #Stack(items=[])\n",
        "print(stack_of_ints.limit)  #10\n",
        "stack_of_ints.push(10)\n",
        "stack_of_ints.push(20)\n",
        "\n",
        "print(stack_of_ints.pop())  # This removes and prints the last integer added to\n",
        "                            # the stack (which is 20).\n",
        "stack_of_strings = Stack[str]() # stack_of_strings = Stack[str](): This creates\n",
        "# another instance of the Stack class, but this time T is specified as str.\n",
        "# This stack is intended to hold only strings.\n",
        "print(stack_of_strings) # Stack(items=[])\n",
        "stack_of_strings.push(\"hello\")\n",
        "stack_of_strings.push(\"world\")\n",
        "print(stack_of_strings) #Stack(items=['hello', 'world'])\n",
        "print(stack_of_strings.pop())  # 'world'"
      ],
      "metadata": {
        "colab": {
          "base_uri": "https://localhost:8080/"
        },
        "id": "kME5_uJd8GX1",
        "outputId": "60b848fe-2c2e-4604-b0a6-6919873961d7"
      },
      "execution_count": 6,
      "outputs": [
        {
          "output_type": "stream",
          "name": "stdout",
          "text": [
            "Stack(items=[])\n",
            "10\n",
            "20\n",
            "Stack(items=[])\n",
            "Stack(items=['hello', 'world'])\n",
            "world\n"
          ]
        }
      ]
    },
    {
      "cell_type": "markdown",
      "source": [
        "# Generic with DataClasses"
      ],
      "metadata": {
        "id": "XRh30EwVBV6i"
      }
    },
    {
      "cell_type": "code",
      "source": [
        "from typing import TypeVar, Generic\n",
        "\n",
        "# Declare Type Variables\n",
        "K = TypeVar('K')\n",
        "V = TypeVar('V')\n",
        "\n",
        "# Production Grade Example for AI Agents\n",
        "@dataclass\n",
        "class AgentState(Generic[K, V]):\n",
        "    context: dict[K, V]\n",
        "    status: str\n",
        "\n",
        "agent_state = AgentState[str, str](context={\"task\": \"data collection\", \"priority\": \"high\"}, status=\"active\")\n",
        "\n",
        "print(agent_state.context)  # {'task': 'data collection', 'priority': 'high'}\n",
        "print(agent_state.status)   # 'active'"
      ],
      "metadata": {
        "colab": {
          "base_uri": "https://localhost:8080/"
        },
        "id": "_7nQi3N3GJam",
        "outputId": "cde8261c-561d-4a6b-dd8a-d57f734ac768"
      },
      "execution_count": 8,
      "outputs": [
        {
          "output_type": "stream",
          "name": "stdout",
          "text": [
            "{'task': 'data collection', 'priority': 'high'}\n",
            "active\n"
          ]
        }
      ]
    }
  ]
}