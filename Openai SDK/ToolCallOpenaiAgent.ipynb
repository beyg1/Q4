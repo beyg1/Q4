{
  "nbformat": 4,
  "nbformat_minor": 0,
  "metadata": {
    "colab": {
      "provenance": [],
      "authorship_tag": "ABX9TyMZtSlWe98W+uqaPyUe1Yl2",
      "include_colab_link": true
    },
    "kernelspec": {
      "name": "python3",
      "display_name": "Python 3"
    },
    "language_info": {
      "name": "python"
    }
  },
  "cells": [
    {
      "cell_type": "markdown",
      "metadata": {
        "id": "view-in-github",
        "colab_type": "text"
      },
      "source": [
        "<a href=\"https://colab.research.google.com/github/beyg1/Q4/blob/main/Openai%20SDK/ToolCallOpenaiAgent.ipynb\" target=\"_parent\"><img src=\"https://colab.research.google.com/assets/colab-badge.svg\" alt=\"Open In Colab\"/></a>"
      ]
    },
    {
      "cell_type": "code",
      "execution_count": null,
      "metadata": {
        "id": "0Tx0hzHzdJ3f"
      },
      "outputs": [],
      "source": [
        "!pip install -Uq openai-agents"
      ]
    },
    {
      "cell_type": "code",
      "source": [
        "import nest_asyncio\n",
        "nest_asyncio.apply() #Make your Jupyter Notebook capable of running asynchronous functions."
      ],
      "metadata": {
        "id": "Pxug1F9Dk7Mh"
      },
      "execution_count": null,
      "outputs": []
    },
    {
      "cell_type": "code",
      "source": [
        "import os\n",
        "from agents import Agent, Runner, AsyncOpenAI, OpenAIChatCompletionsModel\n",
        "from agents.run import RunConfig\n",
        "from google.colab import userdata\n",
        "\n",
        "\n",
        "gemini_api_key = userdata.get(\"GOOGLE_API_KEY\")\n",
        "\n",
        "\n",
        "# Check if the API key is present; if not, raise an error\n",
        "if not gemini_api_key:\n",
        "    raise ValueError(\"GEMINI_API_KEY is not set. Please ensure it is defined in your .env file.\")\n",
        "\n",
        "#Reference: https://ai.google.dev/gemini-api/docs/openai\n",
        "external_client = AsyncOpenAI(\n",
        "    api_key=gemini_api_key,\n",
        "    base_url=\"https://generativelanguage.googleapis.com/v1beta/openai/\",\n",
        ")\n",
        "\n",
        "model = OpenAIChatCompletionsModel(\n",
        "    model=\"gemini-2.0-flash\",\n",
        "    openai_client=external_client\n",
        ")\n",
        "\n",
        "config = RunConfig(\n",
        "    model=model,\n",
        "    model_provider=external_client,\n",
        "    tracing_disabled=True"
      ],
      "metadata": {
        "id": "jm-DTLGPlBMC"
      },
      "execution_count": null,
      "outputs": []
    },
    {
      "cell_type": "markdown",
      "source": [
        "# Tools\n",
        "The OpenAI Agents SDK provides a robust framework for integrating various tools into agents, enabling them to perform tasks such as data retrieval, web searches, and code execution. Here's an overview of the key points regarding tool integration:\n",
        "\n",
        "# Types of Tools:\n",
        "\n",
        "### Hosted Tools: These are pre-built tools running on OpenAI's servers, accessible via the [OpenAIResponsesModel]\n",
        "\n",
        "### WebSearchTool: Enables agents to perform web searches.\n",
        "\n",
        "### FileSearchTool: Allows retrieval of information from OpenAI Vector Stores.\n",
        "\n",
        "### ComputerTool: Facilitates automation of computer-based tasks.\n",
        "\n",
        "### Function Calling: This feature allows agents to utilize any Python function as a tool, enhancing their versatility.\n",
        "\n",
        "### Agents as Tools: Agents can employ other agents as tools, enabling hierarchical task management without transferring control.\n",
        "\n",
        "# Implementing Tools:\n",
        "\n",
        "# Function Tools:\n",
        "By decorating Python functions with @function_tool, they can be seamlessly integrated as tools for agents.\n",
        "\n",
        "# Tool Execution Flow:\n",
        "During an agent's operation, if a tool call is identified in the response, the SDK processes the tool call, appends the tool's response to the message history, and continues the loop until a final output is produced.\n",
        "\n",
        "# Error Handling:\n",
        "The SDK offers mechanisms to handle errors gracefully, allowing agents to recover from tool-related issues and continue their tasks effectively."
      ],
      "metadata": {
        "id": "bw74YzQrlZxx"
      }
    },
    {
      "cell_type": "code",
      "source": [],
      "metadata": {
        "id": "P_w5itlRmf2Q"
      },
      "execution_count": null,
      "outputs": []
    }
  ]
}