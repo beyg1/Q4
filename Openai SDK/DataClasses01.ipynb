{
  "nbformat": 4,
  "nbformat_minor": 0,
  "metadata": {
    "colab": {
      "provenance": [],
      "authorship_tag": "ABX9TyO8A9rncVSpIZnTNV9Fgt/U",
      "include_colab_link": true
    },
    "kernelspec": {
      "name": "python3",
      "display_name": "Python 3"
    },
    "language_info": {
      "name": "python"
    }
  },
  "cells": [
    {
      "cell_type": "markdown",
      "metadata": {
        "id": "view-in-github",
        "colab_type": "text"
      },
      "source": [
        "<a href=\"https://colab.research.google.com/github/beyg1/Q4/blob/main/Openai%20SDK/DataClasses01.ipynb\" target=\"_parent\"><img src=\"https://colab.research.google.com/assets/colab-badge.svg\" alt=\"Open In Colab\"/></a>"
      ]
    },
    {
      "cell_type": "code",
      "execution_count": 1,
      "metadata": {
        "colab": {
          "base_uri": "https://localhost:8080/"
        },
        "id": "Kpw_H40klq8w",
        "outputId": "5fb4d79b-e94c-4317-9d19-815fd5a7401c"
      },
      "outputs": [
        {
          "output_type": "stream",
          "name": "stdout",
          "text": [
            "Agent1 name: Agent1\n",
            "Agent2 temperature: 0.5\n"
          ]
        }
      ],
      "source": [
        "\n",
        "# Data classes are a powerful tool in Python for creating classes that primarily store data.\n",
        "# They offer a concise syntax and automatic generation of common methods like __init__, __repr__, and __eq__.\n",
        "# This notebook will guide you through the basics of data classes and how they can be leveraged in the OpenAI Agents SDK.\n",
        "\n",
        "\n",
        "# Importing the dataclass decorator:\n",
        "from dataclasses import dataclass\n",
        "\n",
        "# Defining a simple data class:\n",
        "@dataclass\n",
        "class AgentConfig:\n",
        "    \"\"\"\n",
        "    Configuration for an OpenAI agent.\n",
        "    \"\"\"\n",
        "    name: str\n",
        "    model: str\n",
        "    temperature: float = 0.7  # Default value\n",
        "\n",
        "# Creating instances of the data class:\n",
        "agent1 = AgentConfig(name=\"Agent1\", model=\"gpt-3.5-turbo\")\n",
        "agent2 = AgentConfig(name=\"Agent2\", model=\"gpt-4\", temperature=0.5)\n",
        "\n",
        "# Accessing data attributes:\n",
        "print(f\"Agent1 name: {agent1.name}\")\n",
        "print(f\"Agent2 temperature: {agent2.temperature}\")\n",
        "\n"
      ]
    },
    {
      "cell_type": "code",
      "source": [
        "# Data classes automatically generate an __eq__ method:\n",
        "print(f\"Are agent1 and agent2 equal? {agent1 == agent2}\")\n",
        "\n",
        "# Data classes also generate a __repr__ method for easy printing:\n",
        "print(agent1)\n",
        "print(agent2)\n",
        "\n",
        "# Benefits of using data classes with OpenAI Agents SDK:\n",
        "# 1. Clear and concise representation of agent configurations.\n",
        "# 2. Easy initialization and modification of agent parameters.\n",
        "# 3. Improved code readability and maintainability.\n",
        "# 4. Automatic generation of useful methods like __eq__ and __repr__.\n",
        "\n",
        "\n",
        "# Conclusion:\n",
        "# Data classes are a valuable tool for working with data in Python.\n",
        "# They provide a clean and efficient way to define and manage your agent configurations in the OpenAI Agents SDK.\n",
        "# By leveraging data classes, you can improve the readability, maintainability, and overall quality of your code."
      ],
      "metadata": {
        "colab": {
          "base_uri": "https://localhost:8080/"
        },
        "id": "gyez7OyqpTkr",
        "outputId": "20b9cacd-f7f6-4c26-8552-0c28b19b0767"
      },
      "execution_count": 2,
      "outputs": [
        {
          "output_type": "stream",
          "name": "stdout",
          "text": [
            "Are agent1 and agent2 equal? False\n",
            "AgentConfig(name='Agent1', model='gpt-3.5-turbo', temperature=0.7)\n",
            "AgentConfig(name='Agent2', model='gpt-4', temperature=0.5)\n"
          ]
        }
      ]
    }
  ]
}