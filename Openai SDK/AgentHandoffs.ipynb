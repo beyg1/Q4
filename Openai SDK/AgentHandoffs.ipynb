{
  "nbformat": 4,
  "nbformat_minor": 0,
  "metadata": {
    "colab": {
      "provenance": [],
      "authorship_tag": "ABX9TyNtg9ypNgmLsxJvNyzzQsTQ",
      "include_colab_link": true
    },
    "kernelspec": {
      "name": "python3",
      "display_name": "Python 3"
    },
    "language_info": {
      "name": "python"
    }
  },
  "cells": [
    {
      "cell_type": "markdown",
      "metadata": {
        "id": "view-in-github",
        "colab_type": "text"
      },
      "source": [
        "<a href=\"https://colab.research.google.com/github/beyg1/Q4/blob/main/Openai%20SDK/AgentHandoffs.ipynb\" target=\"_parent\"><img src=\"https://colab.research.google.com/assets/colab-badge.svg\" alt=\"Open In Colab\"/></a>"
      ]
    },
    {
      "cell_type": "code",
      "execution_count": null,
      "metadata": {
        "id": "ObqvzbN3GEUp"
      },
      "outputs": [],
      "source": [
        "!pip install -Uq openai-agents tavily-python"
      ]
    },
    {
      "cell_type": "code",
      "source": [
        "import nest_asyncio\n",
        "nest_asyncio.apply()"
      ],
      "metadata": {
        "id": "YB0y-Ca_taSo"
      },
      "execution_count": null,
      "outputs": []
    },
    {
      "cell_type": "code",
      "source": [
        "import os\n",
        "from agents import Agent, Runner, AsyncOpenAI, OpenAIChatCompletionsModel\n",
        "from google.colab import userdata\n",
        "\n",
        "gemini_api_key = userdata.get(\"GOOGLE_API_KEY\")\n",
        "search_api_key = userdata.get(\"Tavily_API_Key\")\n",
        "\n",
        "#Reference: https://ai.google.dev/gemini-api/docs/openai\n",
        "external_client = AsyncOpenAI(\n",
        "    api_key=gemini_api_key,\n",
        "    base_url=\"https://generativelanguage.googleapis.com/v1beta/openai/\",\n",
        ")\n",
        "\n",
        "model = OpenAIChatCompletionsModel(\n",
        "    model=\"gemini-2.0-flash\",\n",
        "    openai_client=external_client\n",
        ")"
      ],
      "metadata": {
        "id": "mS5_hkY2tcj4"
      },
      "execution_count": null,
      "outputs": []
    },
    {
      "cell_type": "code",
      "source": [
        "from agents import set_tracing_disabled\n",
        "\n",
        "set_tracing_disabled(True)"
      ],
      "metadata": {
        "id": "oIU_2NPRtnRf"
      },
      "execution_count": null,
      "outputs": []
    },
    {
      "cell_type": "code",
      "source": [
        "from agents.tool import function_tool\n",
        "from tavily import TavilyClient\n",
        "\n",
        "@function_tool\n",
        "def browse_online(query: str):\n",
        "  \"\"\"Search online for the given query.\"\"\"\n",
        "  tavily_client = TavilyClient(api_key=search_api_key)\n",
        "  response = tavily_client.search(query)\n",
        "  return response"
      ],
      "metadata": {
        "id": "GdQA6n1stoUO"
      },
      "execution_count": null,
      "outputs": []
    },
    {
      "cell_type": "code",
      "source": [
        "from agents import Agent, Runner\n",
        "\n",
        "\n",
        "Panaversity_Agent = Agent(\n",
        "      name=\"Panaversity_Agent\",\n",
        "      instructions=\"\"\"\n",
        "      You are an helpful assisstant for an online university \"Panaversity.org\".\n",
        "      Answer all querries related to Panaversity by using the browse_online tool.\n",
        "      crawl the Panaversity.org website using browse_online tool and answer the querries.\n",
        "      \"\"\",\n",
        "      tools=[browse_online],\n",
        "      handoffs=[],\n",
        "      model=model,\n",
        "  )\n",
        "Agentia_World_Agent = Agent(\n",
        "      name=\"Agentia_World_Agent\",\n",
        "      instructions=\"\"\"\n",
        "      You are an helpful assisstant for an online company \"Agentia World\".\n",
        "      Agentia World specializes in AI and Agentic Ai solutions for businesses.\n",
        "      Answer all querries related to Agentic Solutions or applications the user might need.\n",
        "      \"\"\",\n",
        "      tools=[],\n",
        "      handoffs=[],\n",
        "      model=model,\n",
        "  )\n",
        "Web_dev_Agent = Agent(\n",
        "      name=\"Panacloud_Agent\",\n",
        "      instructions=\"\"\"\n",
        "      You are a helpful assistant who is Specialized in offering Web development Solutions.\n",
        "      \"\"\",\n",
        "      tools=[],\n",
        "      handoffs=[],\n",
        "      model=model,\n",
        "  )\n",
        "Mobil_dev_Agent = Agent(\n",
        "      name=\"Panacloud_Agent\",\n",
        "      instructions=\"\"\"\n",
        "      You are a helpful assistant who is Specialized in offering Mobile app development Solutions.\n",
        "      \"\"\",\n",
        "      tools=[],\n",
        "      handoffs=[],\n",
        "      model=model,\n",
        "  )\n",
        "Panacloud_Agent = Agent(\n",
        "      name=\"Panacloud_Agent\",\n",
        "      instructions=\"\"\"\n",
        "      You are an helpful assisstant for an online company \"Panacloud\".\n",
        "      Panacloud specializes in Web development and mobile app development for businesses.\n",
        "      Answer all querries related to Web Development or mobile app development by using\n",
        "      Web_dev_Agent or Mobil_dev_Agent as your tools.\n",
        "      \"\"\",\n",
        "      tools=[Web_dev_Agent.as_tool(tool_name=\"Web_dev_Agent\",\n",
        "                             tool_description=\"Specialized in offering Web development Solutions.\"\n",
        "                             ),\n",
        "             Mobil_dev_Agent.as_tool(tool_name=\"Mobil_dev_Agent\",\n",
        "                             tool_description=\"Specialized in offering mobile app development Solutions.\"\n",
        "                             )\n",
        "      ],\n",
        "      handoffs=[],\n",
        "      model=model,\n",
        "  )\n",
        "PIAIC_Agent = Agent(\n",
        "      name=\"PIAIC_Agent\",\n",
        "      instructions=\"\"\"\n",
        "      You are the Orchestrator Agent which handels all the agents. Panaversity_Agent\n",
        "      for querries related to Panaversity, Agentia_World_Agent for querries related to\n",
        "      Agents and Agentic applications/Solutions the user might need and Panacloud_Agent\n",
        "      for querries related to Web development or mobile app development as Panacloud is\n",
        "      a software house.\n",
        "      \"\"\",\n",
        "      tools=[],\n",
        "      handoffs=[Panaversity_Agent,Agentia_World_Agent,Panacloud_Agent],\n",
        "      model=model,\n",
        "  )\n",
        "\n"
      ],
      "metadata": {
        "id": "dtH7Qxbjt-tQ"
      },
      "execution_count": null,
      "outputs": []
    },
    {
      "cell_type": "markdown",
      "source": [
        "# get a graphical representation of your Agentic System"
      ],
      "metadata": {
        "id": "hYx5opZg2WP_"
      }
    },
    {
      "cell_type": "code",
      "source": [
        "!pip install -q \"openai-agents[viz]\"\n"
      ],
      "metadata": {
        "id": "g0n9OlUI1nMg"
      },
      "execution_count": null,
      "outputs": []
    },
    {
      "cell_type": "code",
      "source": [
        "from agents.extensions.visualization import draw_graph\n",
        "\n",
        "draw_graph(PIAIC_Agent)"
      ],
      "metadata": {
        "colab": {
          "base_uri": "https://localhost:8080/",
          "height": 418
        },
        "id": "tuAW28Bm1sOP",
        "outputId": "d1a8ec23-d489-402d-80f9-ecf969a35ba9"
      },
      "execution_count": null,
      "outputs": [
        {
          "output_type": "execute_result",
          "data": {
            "image/svg+xml": "<?xml version=\"1.0\" encoding=\"UTF-8\" standalone=\"no\"?>\n<!DOCTYPE svg PUBLIC \"-//W3C//DTD SVG 1.1//EN\"\n \"http://www.w3.org/Graphics/SVG/1.1/DTD/svg11.dtd\">\n<!-- Generated by graphviz version 2.43.0 (0)\n -->\n<!-- Title: G Pages: 1 -->\n<svg width=\"662pt\" height=\"297pt\"\n viewBox=\"0.00 0.00 661.81 297.05\" xmlns=\"http://www.w3.org/2000/svg\" xmlns:xlink=\"http://www.w3.org/1999/xlink\">\n<g id=\"graph0\" class=\"graph\" transform=\"scale(1 1) rotate(0) translate(4 293.05)\">\n<title>G</title>\n<polygon fill=\"white\" stroke=\"transparent\" points=\"-4,4 -4,-293.05 657.81,-293.05 657.81,4 -4,4\"/>\n<!-- __start__ -->\n<g id=\"node1\" class=\"node\">\n<title>__start__</title>\n<ellipse fill=\"lightblue\" stroke=\"black\" cx=\"230.54\" cy=\"-272.79\" rx=\"51.74\" ry=\"16.03\"/>\n<text text-anchor=\"middle\" x=\"230.54\" y=\"-269.09\" font-family=\"Arial\" font-size=\"14.00\">__start__</text>\n</g>\n<!-- PIAIC_Agent -->\n<g id=\"node3\" class=\"node\">\n<title>PIAIC_Agent</title>\n<polygon fill=\"lightyellow\" stroke=\"black\" points=\"284.54,-220.53 176.54,-220.53 176.54,-162.53 284.54,-162.53 284.54,-220.53\"/>\n<text text-anchor=\"middle\" x=\"230.54\" y=\"-187.83\" font-family=\"Arial\" font-size=\"14.00\">PIAIC_Agent</text>\n</g>\n<!-- __start__&#45;&gt;PIAIC_Agent -->\n<g id=\"edge1\" class=\"edge\">\n<title>__start__&#45;&gt;PIAIC_Agent</title>\n<path fill=\"none\" stroke=\"black\" stroke-width=\"1.5\" d=\"M230.54,-256.51C230.54,-249.12 230.54,-239.89 230.54,-230.76\"/>\n<polygon fill=\"black\" stroke=\"black\" stroke-width=\"1.5\" points=\"234.04,-230.6 230.54,-220.6 227.04,-230.6 234.04,-230.6\"/>\n</g>\n<!-- __end__ -->\n<g id=\"node2\" class=\"node\">\n<title>__end__</title>\n<ellipse fill=\"lightblue\" stroke=\"black\" cx=\"230.54\" cy=\"-16.26\" rx=\"48.58\" ry=\"16.03\"/>\n<text text-anchor=\"middle\" x=\"230.54\" y=\"-12.56\" font-family=\"Arial\" font-size=\"14.00\">__end__</text>\n</g>\n<!-- Panaversity_Agent -->\n<g id=\"node4\" class=\"node\">\n<title>Panaversity_Agent</title>\n<polygon fill=\"lightyellow\" stroke=\"black\" points=\"138.54,-126.53 8.54,-126.53 8.54,-68.53 138.54,-68.53 138.54,-126.53\"/>\n<text text-anchor=\"middle\" x=\"73.54\" y=\"-93.83\" font-family=\"Arial\" font-size=\"14.00\">Panaversity_Agent</text>\n</g>\n<!-- PIAIC_Agent&#45;&gt;Panaversity_Agent -->\n<g id=\"edge2\" class=\"edge\">\n<title>PIAIC_Agent&#45;&gt;Panaversity_Agent</title>\n<path fill=\"none\" stroke=\"black\" stroke-width=\"1.5\" d=\"M182.58,-162.42C166.07,-152.75 147.42,-141.82 130.28,-131.78\"/>\n<polygon fill=\"black\" stroke=\"black\" stroke-width=\"1.5\" points=\"131.87,-128.65 121.47,-126.62 128.33,-134.69 131.87,-128.65\"/>\n</g>\n<!-- Agentia_World_Agent -->\n<g id=\"node6\" class=\"node\">\n<title>Agentia_World_Agent</title>\n<polygon fill=\"lightyellow\" stroke=\"black\" points=\"304.54,-126.53 156.54,-126.53 156.54,-68.53 304.54,-68.53 304.54,-126.53\"/>\n<text text-anchor=\"middle\" x=\"230.54\" y=\"-93.83\" font-family=\"Arial\" font-size=\"14.00\">Agentia_World_Agent</text>\n</g>\n<!-- PIAIC_Agent&#45;&gt;Agentia_World_Agent -->\n<g id=\"edge6\" class=\"edge\">\n<title>PIAIC_Agent&#45;&gt;Agentia_World_Agent</title>\n<path fill=\"none\" stroke=\"black\" stroke-width=\"1.5\" d=\"M230.54,-162.42C230.54,-154.38 230.54,-145.48 230.54,-136.94\"/>\n<polygon fill=\"black\" stroke=\"black\" stroke-width=\"1.5\" points=\"234.04,-136.77 230.54,-126.77 227.04,-136.77 234.04,-136.77\"/>\n</g>\n<!-- Panacloud_Agent -->\n<g id=\"node7\" class=\"node\">\n<title>Panacloud_Agent</title>\n<polygon fill=\"lightyellow\" stroke=\"black\" points=\"446.04,-126.53 323.04,-126.53 323.04,-68.53 446.04,-68.53 446.04,-126.53\"/>\n<text text-anchor=\"middle\" x=\"384.54\" y=\"-93.83\" font-family=\"Arial\" font-size=\"14.00\">Panacloud_Agent</text>\n</g>\n<!-- PIAIC_Agent&#45;&gt;Panacloud_Agent -->\n<g id=\"edge8\" class=\"edge\">\n<title>PIAIC_Agent&#45;&gt;Panacloud_Agent</title>\n<path fill=\"none\" stroke=\"black\" stroke-width=\"1.5\" d=\"M277.58,-162.42C293.78,-152.75 312.07,-141.82 328.88,-131.78\"/>\n<polygon fill=\"black\" stroke=\"black\" stroke-width=\"1.5\" points=\"330.73,-134.75 337.52,-126.62 327.14,-128.74 330.73,-134.75\"/>\n</g>\n<!-- Panaversity_Agent&#45;&gt;__end__ -->\n<g id=\"edge5\" class=\"edge\">\n<title>Panaversity_Agent&#45;&gt;__end__</title>\n<path fill=\"none\" stroke=\"black\" stroke-width=\"1.5\" d=\"M129.33,-68.36C151.45,-57.19 176.2,-44.7 195.69,-34.86\"/>\n<polygon fill=\"black\" stroke=\"black\" stroke-width=\"1.5\" points=\"197.45,-37.89 204.8,-30.26 194.29,-31.64 197.45,-37.89\"/>\n</g>\n<!-- browse_online -->\n<g id=\"node5\" class=\"node\">\n<title>browse_online</title>\n<ellipse fill=\"lightgreen\" stroke=\"black\" cx=\"73.54\" cy=\"-16.26\" rx=\"73.58\" ry=\"16.03\"/>\n<text text-anchor=\"middle\" x=\"73.54\" y=\"-12.56\" font-family=\"Arial\" font-size=\"14.00\">browse_online</text>\n</g>\n<!-- Panaversity_Agent&#45;&gt;browse_online -->\n<g id=\"edge3\" class=\"edge\">\n<title>Panaversity_Agent&#45;&gt;browse_online</title>\n<path fill=\"none\" stroke=\"black\" stroke-width=\"1.5\" stroke-dasharray=\"1,5\" d=\"M67.05,-68.36C66.66,-60.07 66.71,-51.04 67.18,-42.92\"/>\n<polygon fill=\"black\" stroke=\"black\" stroke-width=\"1.5\" points=\"70.67,-43.15 68.04,-32.89 63.7,-42.55 70.67,-43.15\"/>\n</g>\n<!-- browse_online&#45;&gt;Panaversity_Agent -->\n<g id=\"edge4\" class=\"edge\">\n<title>browse_online&#45;&gt;Panaversity_Agent</title>\n<path fill=\"none\" stroke=\"black\" stroke-width=\"1.5\" stroke-dasharray=\"1,5\" d=\"M79.04,-32.89C79.92,-40.23 80.33,-49.33 80.29,-58.34\"/>\n<polygon fill=\"black\" stroke=\"black\" stroke-width=\"1.5\" points=\"76.79,-58.27 80.03,-68.36 83.78,-58.45 76.79,-58.27\"/>\n</g>\n<!-- Agentia_World_Agent&#45;&gt;__end__ -->\n<g id=\"edge7\" class=\"edge\">\n<title>Agentia_World_Agent&#45;&gt;__end__</title>\n<path fill=\"none\" stroke=\"black\" stroke-width=\"1.5\" d=\"M230.54,-68.36C230.54,-60.07 230.54,-51.04 230.54,-42.92\"/>\n<polygon fill=\"black\" stroke=\"black\" stroke-width=\"1.5\" points=\"234.04,-42.89 230.54,-32.89 227.04,-42.89 234.04,-42.89\"/>\n</g>\n<!-- Panacloud_Agent&#45;&gt;__end__ -->\n<g id=\"edge13\" class=\"edge\">\n<title>Panacloud_Agent&#45;&gt;__end__</title>\n<path fill=\"none\" stroke=\"black\" stroke-width=\"1.5\" d=\"M329.81,-68.36C308.12,-57.19 283.84,-44.7 264.73,-34.86\"/>\n<polygon fill=\"black\" stroke=\"black\" stroke-width=\"1.5\" points=\"266.28,-31.73 255.79,-30.26 263.08,-37.95 266.28,-31.73\"/>\n</g>\n<!-- Web_dev_Agent -->\n<g id=\"node8\" class=\"node\">\n<title>Web_dev_Agent</title>\n<ellipse fill=\"lightgreen\" stroke=\"black\" cx=\"381.54\" cy=\"-16.26\" rx=\"82.05\" ry=\"16.03\"/>\n<text text-anchor=\"middle\" x=\"381.54\" y=\"-12.56\" font-family=\"Arial\" font-size=\"14.00\">Web_dev_Agent</text>\n</g>\n<!-- Panacloud_Agent&#45;&gt;Web_dev_Agent -->\n<g id=\"edge9\" class=\"edge\">\n<title>Panacloud_Agent&#45;&gt;Web_dev_Agent</title>\n<path fill=\"none\" stroke=\"black\" stroke-width=\"1.5\" stroke-dasharray=\"1,5\" d=\"M376.98,-68.36C376.28,-60.07 375.99,-51.04 376.15,-42.92\"/>\n<polygon fill=\"black\" stroke=\"black\" stroke-width=\"1.5\" points=\"379.65,-43.05 376.63,-32.89 372.65,-42.71 379.65,-43.05\"/>\n</g>\n<!-- Mobil_dev_Agent -->\n<g id=\"node9\" class=\"node\">\n<title>Mobil_dev_Agent</title>\n<ellipse fill=\"lightgreen\" stroke=\"black\" cx=\"567.54\" cy=\"-16.26\" rx=\"86.03\" ry=\"16.03\"/>\n<text text-anchor=\"middle\" x=\"567.54\" y=\"-12.56\" font-family=\"Arial\" font-size=\"14.00\">Mobil_dev_Agent</text>\n</g>\n<!-- Panacloud_Agent&#45;&gt;Mobil_dev_Agent -->\n<g id=\"edge11\" class=\"edge\">\n<title>Panacloud_Agent&#45;&gt;Mobil_dev_Agent</title>\n<path fill=\"none\" stroke=\"black\" stroke-width=\"1.5\" stroke-dasharray=\"1,5\" d=\"M442.83,-68.47C468.06,-57.31 497.17,-44.82 520.94,-34.96\"/>\n<polygon fill=\"black\" stroke=\"black\" stroke-width=\"1.5\" points=\"522.53,-38.09 530.44,-31.05 519.87,-31.62 522.53,-38.09\"/>\n</g>\n<!-- Web_dev_Agent&#45;&gt;Panacloud_Agent -->\n<g id=\"edge10\" class=\"edge\">\n<title>Web_dev_Agent&#45;&gt;Panacloud_Agent</title>\n<path fill=\"none\" stroke=\"black\" stroke-width=\"1.5\" stroke-dasharray=\"1,5\" d=\"M387.63,-32.89C388.79,-40.23 389.55,-49.33 389.84,-58.34\"/>\n<polygon fill=\"black\" stroke=\"black\" stroke-width=\"1.5\" points=\"386.34,-58.4 389.97,-68.36 393.34,-58.32 386.34,-58.4\"/>\n</g>\n<!-- Mobil_dev_Agent&#45;&gt;Panacloud_Agent -->\n<g id=\"edge12\" class=\"edge\">\n<title>Mobil_dev_Agent&#45;&gt;Panacloud_Agent</title>\n<path fill=\"none\" stroke=\"black\" stroke-width=\"1.5\" stroke-dasharray=\"1,5\" d=\"M539.48,-31.74C517.1,-42.01 484.89,-56.12 455.59,-68.56\"/>\n<polygon fill=\"black\" stroke=\"black\" stroke-width=\"1.5\" points=\"454.05,-65.41 446.2,-72.53 456.77,-71.86 454.05,-65.41\"/>\n</g>\n</g>\n</svg>\n",
            "text/plain": [
              "<graphviz.sources.Source at 0x7bd17e70ab90>"
            ]
          },
          "metadata": {},
          "execution_count": 21
        }
      ]
    },
    {
      "cell_type": "code",
      "source": [
        "response = Runner.run_sync(PIAIC_Agent, \"Hey\")\n",
        "\n",
        "print(f\"**{response.last_agent.name}**:\\n\\n {response.final_output}\")"
      ],
      "metadata": {
        "id": "bN9gQhPY21FO",
        "colab": {
          "base_uri": "https://localhost:8080/"
        },
        "outputId": "03b3fb72-d192-4219-f6c4-833f8969c0a4"
      },
      "execution_count": null,
      "outputs": [
        {
          "output_type": "stream",
          "name": "stdout",
          "text": [
            "**PIAIC_Agent**:\n",
            "\n",
            " Hello! How can I help you today? Are you interested in Panaversity, Agentia World, or Panacloud?\n",
            "\n"
          ]
        }
      ]
    },
    {
      "cell_type": "code",
      "source": [
        "response = Runner.run_sync(PIAIC_Agent, \"Which is the best course related to ai in panaversity\")\n",
        "\n",
        "print(f\"**{response.last_agent.name}**:\\n\\n {response.final_output}\")"
      ],
      "metadata": {
        "colab": {
          "base_uri": "https://localhost:8080/"
        },
        "id": "XuLIhpQO-fIr",
        "outputId": "e5969c5f-1aeb-44d2-b78e-bbff17cf443a"
      },
      "execution_count": null,
      "outputs": [
        {
          "output_type": "stream",
          "name": "stdout",
          "text": [
            "**Panaversity_Agent**:\n",
            "\n",
            " Based on the search results, Panaversity offers cutting-edge programs in Agentic AI. A specific course, \"Learn Advanced Agentic AI Engineering | Panaversity Flagship Program\", focuses on advanced Agentic AI engineering using frameworks like LangGraph and LangChain. It seems like a strong option if you're interested in that area. You can find it on their website.\n",
            "\n"
          ]
        }
      ]
    },
    {
      "cell_type": "code",
      "source": [
        "response = Runner.run_sync(PIAIC_Agent, \"I have a business in services industry. how can i increase digital exposure?\")\n",
        "\n",
        "print(f\"**{response.last_agent.name}**:\\n\\n {response.final_output}\")"
      ],
      "metadata": {
        "colab": {
          "base_uri": "https://localhost:8080/"
        },
        "id": "5Krf9Nx1-y3T",
        "outputId": "764e8aaf-8ec5-4b94-935f-b3f24a9ab5a1"
      },
      "execution_count": null,
      "outputs": [
        {
          "output_type": "stream",
          "name": "stdout",
          "text": [
            "**Panacloud_Agent**:\n",
            "\n",
            " To increase digital exposure for your services business, would you like to explore web development solutions or mobile app development solutions?\n",
            "\n"
          ]
        }
      ]
    },
    {
      "cell_type": "code",
      "source": [
        "response = Runner.run_sync(PIAIC_Agent, \"I have a business in services industry. I was thinking of getting a landing page. can you guide me?\")\n",
        "\n",
        "print(f\"**{response.last_agent.name}**:\\n\\n {response.final_output}\")"
      ],
      "metadata": {
        "colab": {
          "base_uri": "https://localhost:8080/"
        },
        "id": "7gUO480K_IfK",
        "outputId": "fdd6aec4-464f-4c38-a97f-ca4904a055d6"
      },
      "execution_count": null,
      "outputs": [
        {
          "output_type": "stream",
          "name": "stdout",
          "text": [
            "**Panacloud_Agent**:\n",
            "\n",
            " Okay, great! A landing page is a fantastic investment for a service-based business. It can be a highly effective way to generate leads, book appointments, and showcase your expertise. Here's a guide to help you through the process:\n",
            "\n",
            "**1. Define Your Goal:**\n",
            "\n",
            "*   **What is the primary action you want visitors to take on your landing page?** This is your Key Performance Indicator (KPI). Common goals include:\n",
            "    *   **Lead Generation:** Collecting email addresses, phone numbers, or other contact information.\n",
            "    *   **Appointment Booking:** Scheduling consultations, demos, or service appointments.\n",
            "    *   **Direct Sale:** Selling a specific service package directly.\n",
            "    *   **Free Trial/Consultation Sign-up:** Encouraging users to try your service.\n",
            "    *   **Download Resource:** Offering a free guide, ebook, or checklist in exchange for contact information.\n",
            "*   **Who is your target audience?** Understanding their needs, pain points, and motivations is crucial for crafting compelling messaging.\n",
            "\n",
            "**2. Planning the Content and Structure:**\n",
            "\n",
            "Here's a typical structure for a high-converting landing page:\n",
            "\n",
            "*   **Headline and Subheadline:**\n",
            "    *   **Headline:** Grab attention immediately. It should clearly state the benefit you offer. Think \"Solve \\[Problem] with \\[Your Service]\" or \"Get \\[Desired Result] in \\[Timeframe].\"\n",
            "    *   **Subheadline:** Elaborate on the headline and provide more context. Address the target audience's specific needs.\n",
            "*   **Hero Image/Video:**\n",
            "    *   Visually represent your service and its benefits. Use high-quality images or a short, engaging video that showcases your expertise and the value you provide. Consider images of satisfied customers or the results you deliver.\n",
            "*   **Problem/Solution Section:**\n",
            "    *   Clearly identify the problem your target audience faces.\n",
            "    *   Position your service as the *ideal* solution. Explain how you solve the problem and the benefits of choosing you.\n",
            "*   **Key Features and Benefits:**\n",
            "    *   List the core features of your service.\n",
            "    *   **Crucially, translate those features into *benefits* for the customer.** Instead of \"We use advanced technology,\" say \"Get faster results with our advanced technology, saving you time and money.\"\n",
            "*   **Social Proof (Testimonials, Reviews, Case Studies):**\n",
            "    *   Build trust and credibility by showcasing positive feedback from existing customers.\n",
            "    *   Use real names, photos, and specific details in your testimonials.\n",
            "    *   Case studies can be powerful if you have quantifiable results to share.\n",
            "*   **Call to Action (CTA):**\n",
            "    *   The most important element! Make it prominent, clear, and action-oriented.\n",
            "    *   Use strong action verbs like \"Get Started,\" \"Book Your Consultation,\" \"Download Now,\" \"Request a Quote,\" or \"Learn More.\"\n",
            "    *   Use contrasting colors to make the CTA button stand out.\n",
            "    *   Consider using multiple CTAs throughout the page, especially after key sections.\n",
            "*   **Guarantee/Warranty (Optional but Recommended):**\n",
            "    *   Reduce risk and increase conversion rates by offering a guarantee. This could be a money-back guarantee, a satisfaction guarantee, or a specific outcome-based guarantee.\n",
            "*   **Pricing (Optional):**\n",
            "    *   If your pricing is straightforward and competitive, you can include it on the landing page.\n",
            "    *   If your pricing is complex or requires a custom quote, focus on lead generation instead.\n",
            "*   **FAQ Section:**\n",
            "    *   Address common questions and concerns that potential customers might have.\n",
            "    *   This can help alleviate hesitation and build trust.\n",
            "*   **Footer:**\n",
            "    *   Include essential information like your company name, copyright, privacy policy, terms of service, and contact information.\n",
            "\n",
            "**3. Design Considerations:**\n",
            "\n",
            "*   **Clean and Uncluttered Design:** Avoid overwhelming visitors with too much information. Use white space effectively.\n",
            "*   **Mobile-Responsive:** Ensure your landing page looks and functions flawlessly on all devices (desktops, tablets, and smartphones). Mobile-first design is generally recommended.\n",
            "*   **Fast Loading Speed:** Optimize images and code to ensure your page loads quickly. Slow loading speeds can significantly decrease conversion rates.\n",
            "*   **Visual Hierarchy:** Use headings, subheadings, font sizes, and colors to guide the visitor's eye and highlight important information.\n",
            "*   **Consistent Branding:** Maintain a consistent look and feel with your website and other marketing materials. Use your logo, brand colors, and fonts.\n",
            "\n",
            "**4. Choosing a Platform/Tools:**\n",
            "\n",
            "*   **Landing Page Builders:** These platforms are designed specifically for creating landing pages and often include templates, drag-and-drop editors, and built-in analytics. Popular options include:\n",
            "    *   **Leadpages:** Well-established, user-friendly, and offers a wide range of features.\n",
            "    *   **Unbounce:** Powerful A/B testing capabilities and advanced features for marketers.\n",
            "    *   **Instapage:** Focuses on speed and personalization.\n",
            "    *   **GetResponse:** Offers landing pages as part of a wider marketing automation suite.\n",
            "    *   **HubSpot:** Excellent choice if you already use HubSpot's CRM and marketing tools.\n",
            "    *   **WordPress Plugins:** If you already have a WordPress website, you can use plugins like:\n",
            "        *   **Elementor:** A popular page builder with excellent landing page capabilities.\n",
            "        *   **Beaver Builder:** Another robust page builder with pre-built templates.\n",
            "        *   **Thrive Architect:** Focuses on conversion-optimized design.\n",
            "*   **DIY (HTML/CSS/JavaScript):** If you have coding skills, you can create a custom landing page from scratch. This gives you the most control over the design and functionality.\n",
            "*   **Website Builders (Squarespace, Wix):** These platforms can be used to create landing pages, but they may not be as specialized as dedicated landing page builders.\n",
            "\n",
            "**5. A/B Testing and Optimization:**\n",
            "\n",
            "*   **A/B Testing (Split Testing):** Test different versions of your landing page (e.g., different headlines, images, CTAs) to see which performs best.\n",
            "*   **Analytics:** Track key metrics like conversion rate, bounce rate, time on page, and traffic sources. Use tools like Google Analytics to monitor your performance.\n",
            "*   **Continuously Optimize:** Based on your data, make ongoing adjustments to your landing page to improve its effectiveness. Optimization is an ongoing process.\n",
            "\n",
            "**Example Scenario & Landing Page Elements (Service: Dog Grooming):**\n",
            "\n",
            "*   **Goal:** Book dog grooming appointments.\n",
            "*   **Target Audience:** Busy dog owners who want their dogs looking their best.\n",
            "\n",
            "*   **Headline:** Spoil Your Furry Friend with a Pampering Grooming Session!\n",
            "*   **Subheadline:** Convenient, stress-free dog grooming services right in your neighborhood.\n",
            "*   **Hero Image:** A happy, clean, and well-groomed dog.\n",
            "*   **Problem:** \"Tired of struggling to groom your dog at home? Don't have the time or patience?\"\n",
            "*   **Solution:** \"Our expert groomers provide gentle and professional grooming services that will leave your dog looking and feeling fantastic.\"\n",
            "*   **Features/Benefits:**\n",
            "    *   \"Gentle, Experienced Groomers: We treat your dog with love and care.\"\n",
            "    *   \"Convenient Scheduling: Book appointments online in minutes.\"\n",
            "    *   \"Full-Service Grooming: Includes bath, haircut, nail trim, and ear cleaning.\"\n",
            "    *   \"High-Quality Products: We use only the best shampoos and conditioners.\"\n",
            "*   **Social Proof:** \"See what our happy customers are saying...\" (Include testimonials with dog photos).\n",
            "*   **Call to Action:** \"Book Your Appointment Now!\" (Button) \"Get a Free Quote\" (Smaller button).\n",
            "*   **Guarantee:** \"100% Satisfaction Guaranteed. If you're not happy with our service, we'll make it right.\"\n",
            "*   **Pricing (Optional):** \"Basic Grooming Package: $50\" (Show pricing for different packages).\n",
            "*   **FAQ:** \"How often should I groom my dog?\" \"What types of breeds do you groom?\"\n",
            "\n",
            "**Key Questions to Ask Yourself Before You Start:**\n",
            "\n",
            "*   What makes your service unique and better than the competition?\n",
            "*   What are the biggest pain points your target audience experiences?\n",
            "*   What are the specific benefits of using your service (quantify them if possible)?\n",
            "*   What are the key objections people might have to using your service, and how can you address them on your landing page?\n",
            "\n",
            "**Next Steps:**\n",
            "\n",
            "1.  **Clarify Your Goal:** Be very specific about what you want visitors to do.\n",
            "2.  **Research Your Target Audience:** Understand their needs and motivations.\n",
            "3.  **Sketch Out a Wireframe:** Plan the structure of your landing page.\n",
            "4.  **Write Compelling Copy:** Focus on benefits, not just features.\n",
            "5.  **Choose a Platform:** Select a landing page builder or platform that fits your needs and budget.\n",
            "6.  **Design and Build:** Create your landing page.\n",
            "7.  **Test and Optimize:** Continuously improve your landing page based on data.\n",
            "\n",
            "Good luck! I'm here to answer any further questions you have along the way. Just let me know what you'd like to discuss in more detail.\n",
            "\n"
          ]
        }
      ]
    },
    {
      "cell_type": "code",
      "source": [],
      "metadata": {
        "id": "uY9XaTqh_d9J"
      },
      "execution_count": null,
      "outputs": []
    }
  ]
}