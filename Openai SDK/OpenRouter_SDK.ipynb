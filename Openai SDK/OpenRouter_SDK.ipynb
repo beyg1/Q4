{
  "nbformat": 4,
  "nbformat_minor": 0,
  "metadata": {
    "colab": {
      "provenance": [],
      "authorship_tag": "ABX9TyNBNsdNQ8f1q9USl8RBG4zN",
      "include_colab_link": true
    },
    "kernelspec": {
      "name": "python3",
      "display_name": "Python 3"
    },
    "language_info": {
      "name": "python"
    }
  },
  "cells": [
    {
      "cell_type": "markdown",
      "metadata": {
        "id": "view-in-github",
        "colab_type": "text"
      },
      "source": [
        "<a href=\"https://colab.research.google.com/github/beyg1/Q4/blob/main/Openai%20SDK/OpenRouter_SDK.ipynb\" target=\"_parent\"><img src=\"https://colab.research.google.com/assets/colab-badge.svg\" alt=\"Open In Colab\"/></a>"
      ]
    },
    {
      "cell_type": "code",
      "execution_count": 1,
      "metadata": {
        "colab": {
          "base_uri": "https://localhost:8080/"
        },
        "id": "iL_QzJcCNUPx",
        "outputId": "63590704-265b-42a5-f3c3-f8c0104be50d"
      },
      "outputs": [
        {
          "output_type": "stream",
          "name": "stdout",
          "text": [
            "\u001b[?25l   \u001b[90m━━━━━━━━━━━━━━━━━━━━━━━━━━━━━━━━━━━━━━━━\u001b[0m \u001b[32m0.0/120.2 kB\u001b[0m \u001b[31m?\u001b[0m eta \u001b[36m-:--:--\u001b[0m\r\u001b[2K   \u001b[90m━━━━━━━━━━━━━━━━━━━━━━━━━━━━━━━━━━━━━━━━\u001b[0m \u001b[32m120.2/120.2 kB\u001b[0m \u001b[31m4.6 MB/s\u001b[0m eta \u001b[36m0:00:00\u001b[0m\n",
            "\u001b[?25h\u001b[?25l   \u001b[90m━━━━━━━━━━━━━━━━━━━━━━━━━━━━━━━━━━━━━━━━\u001b[0m \u001b[32m0.0/129.3 kB\u001b[0m \u001b[31m?\u001b[0m eta \u001b[36m-:--:--\u001b[0m\r\u001b[2K   \u001b[90m━━━━━━━━━━━━━━━━━━━━━━━━━━━━━━━━━━━━━━━━\u001b[0m \u001b[32m129.3/129.3 kB\u001b[0m \u001b[31m6.8 MB/s\u001b[0m eta \u001b[36m0:00:00\u001b[0m\n",
            "\u001b[?25h\u001b[?25l   \u001b[90m━━━━━━━━━━━━━━━━━━━━━━━━━━━━━━━━━━━━━━━━\u001b[0m \u001b[32m0.0/131.1 kB\u001b[0m \u001b[31m?\u001b[0m eta \u001b[36m-:--:--\u001b[0m\r\u001b[2K   \u001b[90m━━━━━━━━━━━━━━━━━━━━━━━━━━━━━━━━━━━━━━━━\u001b[0m \u001b[32m131.1/131.1 kB\u001b[0m \u001b[31m8.0 MB/s\u001b[0m eta \u001b[36m0:00:00\u001b[0m\n",
            "\u001b[2K   \u001b[90m━━━━━━━━━━━━━━━━━━━━━━━━━━━━━━━━━━━━━━━━\u001b[0m \u001b[32m44.4/44.4 kB\u001b[0m \u001b[31m2.6 MB/s\u001b[0m eta \u001b[36m0:00:00\u001b[0m\n",
            "\u001b[2K   \u001b[90m━━━━━━━━━━━━━━━━━━━━━━━━━━━━━━━━━━━━━━━━\u001b[0m \u001b[32m72.8/72.8 kB\u001b[0m \u001b[31m4.8 MB/s\u001b[0m eta \u001b[36m0:00:00\u001b[0m\n",
            "\u001b[2K   \u001b[90m━━━━━━━━━━━━━━━━━━━━━━━━━━━━━━━━━━━━━━━━\u001b[0m \u001b[32m62.4/62.4 kB\u001b[0m \u001b[31m4.6 MB/s\u001b[0m eta \u001b[36m0:00:00\u001b[0m\n",
            "\u001b[?25h"
          ]
        }
      ],
      "source": [
        "!pip install -Uq openai-agents"
      ]
    },
    {
      "cell_type": "code",
      "source": [
        "# Make the notebook async capable\n",
        "import nest_asyncio\n",
        "nest_asyncio.apply()"
      ],
      "metadata": {
        "id": "hvw1p_aWNjDy"
      },
      "execution_count": 2,
      "outputs": []
    },
    {
      "cell_type": "code",
      "source": [
        "# Get the Key\n",
        "from google.colab import userdata\n",
        "OpenRouter_API = userdata.get('OpenRouter_API')"
      ],
      "metadata": {
        "id": "tFqQc8MJN9hG"
      },
      "execution_count": 3,
      "outputs": []
    },
    {
      "cell_type": "code",
      "source": [
        "# Setup the connection\n",
        "BASE_URL = \"https://openrouter.ai/api/v1\"\n",
        "MODEL = \"deepseek/deepseek-chat:free\""
      ],
      "metadata": {
        "id": "jtblAU1XQNKC"
      },
      "execution_count": 6,
      "outputs": []
    },
    {
      "cell_type": "markdown",
      "source": [
        "#1. Using the OpenRouter API directly"
      ],
      "metadata": {
        "id": "FnI2bOMpRB3B"
      }
    },
    {
      "cell_type": "code",
      "source": [
        "import requests\n",
        "import json\n",
        "\n",
        "response = requests.post(\n",
        "  url=f\"{BASE_URL}/chat/completions\",\n",
        "  headers={\n",
        "    \"Authorization\": f\"Bearer {OpenRouter_API}\",\n",
        "  },\n",
        "  data=json.dumps({\n",
        "    \"model\": MODEL,\n",
        "    \"messages\": [\n",
        "      {\n",
        "        \"role\": \"user\",\n",
        "        \"content\": \"What is the meaning of life?\"\n",
        "      }\n",
        "    ]\n",
        "  })\n",
        ")\n",
        "\n",
        "print(response.json())"
      ],
      "metadata": {
        "colab": {
          "base_uri": "https://localhost:8080/"
        },
        "id": "rBB-Z4usREee",
        "outputId": "a6c47568-9d7b-4785-c772-e84e949069a2"
      },
      "execution_count": 7,
      "outputs": [
        {
          "output_type": "stream",
          "name": "stdout",
          "text": [
            "{'id': 'gen-1748861945-oxz1UjAggp4dAesi3aW0', 'provider': 'Chutes', 'model': 'deepseek/deepseek-chat:free', 'object': 'chat.completion', 'created': 1748861945, 'choices': [{'logprobs': None, 'finish_reason': 'stop', 'native_finish_reason': 'stop', 'index': 0, 'message': {'role': 'assistant', 'content': 'The meaning of life is a deeply philosophical question that has been pondered by thinkers, theologians, and individuals for centuries. There is no single, definitive answer, as it often depends on personal beliefs, cultural context, and individual experiences. Here are some perspectives:\\n\\n1. **Philosophical Perspectives**: Philosophers have proposed various ideas, such as seeking happiness (Aristotle), finding purpose through personal creation (Existentialism), or living in harmony with nature (Stoicism).\\n\\n2. **Religious Perspectives**: Many religions offer their own interpretations. For example, in Christianity, the purpose is often seen as loving God and others; in Buddhism, it’s about achieving enlightenment and ending suffering; in Islam, it’s about submitting to God’s will and living a life of righteousness.\\n\\n3. **Scientific Perspective**: From a biological standpoint, life’s purpose might be seen as survival and reproduction, ensuring the continuation of one’s genes.\\n\\n4. **Existential Perspective**: Some argue that life has no inherent meaning, and it’s up to each individual to create their own purpose through their actions, relationships, and passions.\\n\\n5. **Humanistic Perspective**: This view emphasizes personal growth, self-actualization, and contributing to the well-being of others as the essence of a meaningful life.\\n\\nUltimately, the meaning of life is a deeply personal question, and the answer may evolve over time as you grow and experience the world. What matters most is what gives *you* a sense of purpose and fulfillment.', 'refusal': None, 'reasoning': None}}], 'usage': {'prompt_tokens': 12, 'completion_tokens': 308, 'total_tokens': 320, 'prompt_tokens_details': None}}\n"
          ]
        }
      ]
    },
    {
      "cell_type": "code",
      "source": [
        "data = response.json()\n",
        "data['choices'][0]['message']['content']"
      ],
      "metadata": {
        "colab": {
          "base_uri": "https://localhost:8080/",
          "height": 123
        },
        "id": "CGqqXacMRUOk",
        "outputId": "b06c2b64-4bbb-4801-c7da-cdebfe8a3ff4"
      },
      "execution_count": 8,
      "outputs": [
        {
          "output_type": "execute_result",
          "data": {
            "text/plain": [
              "'The meaning of life is a deeply philosophical question that has been pondered by thinkers, theologians, and individuals for centuries. There is no single, definitive answer, as it often depends on personal beliefs, cultural context, and individual experiences. Here are some perspectives:\\n\\n1. **Philosophical Perspectives**: Philosophers have proposed various ideas, such as seeking happiness (Aristotle), finding purpose through personal creation (Existentialism), or living in harmony with nature (Stoicism).\\n\\n2. **Religious Perspectives**: Many religions offer their own interpretations. For example, in Christianity, the purpose is often seen as loving God and others; in Buddhism, it’s about achieving enlightenment and ending suffering; in Islam, it’s about submitting to God’s will and living a life of righteousness.\\n\\n3. **Scientific Perspective**: From a biological standpoint, life’s purpose might be seen as survival and reproduction, ensuring the continuation of one’s genes.\\n\\n4. **Existential Perspective**: Some argue that life has no inherent meaning, and it’s up to each individual to create their own purpose through their actions, relationships, and passions.\\n\\n5. **Humanistic Perspective**: This view emphasizes personal growth, self-actualization, and contributing to the well-being of others as the essence of a meaningful life.\\n\\nUltimately, the meaning of life is a deeply personal question, and the answer may evolve over time as you grow and experience the world. What matters most is what gives *you* a sense of purpose and fulfillment.'"
            ],
            "application/vnd.google.colaboratory.intrinsic+json": {
              "type": "string"
            }
          },
          "metadata": {},
          "execution_count": 8
        }
      ]
    },
    {
      "cell_type": "markdown",
      "source": [
        "#2. Using OpenAI Agents SDK"
      ],
      "metadata": {
        "id": "G2R10HncRYP4"
      }
    },
    {
      "cell_type": "code",
      "source": [
        "import asyncio\n",
        "from openai import AsyncOpenAI\n",
        "from agents import Agent, OpenAIChatCompletionsModel, Runner, set_tracing_disabled\n",
        "\n",
        "client = AsyncOpenAI(\n",
        "    api_key=OpenRouter_API,\n",
        "    base_url=BASE_URL\n",
        ")\n",
        "\n",
        "set_tracing_disabled(disabled=True)\n",
        "\n",
        "async def main():\n",
        "    # This agent will use the custom LLM provider\n",
        "    agent = Agent(\n",
        "        name=\"Assistant\",\n",
        "        instructions=\"You only respond in haikus.\",\n",
        "        model=OpenAIChatCompletionsModel(model=MODEL, openai_client=client),\n",
        "    )\n",
        "\n",
        "    result = await Runner.run(\n",
        "        agent,\n",
        "        \"Tell me about recursion in programming.\",\n",
        "    )\n",
        "    print(result.final_output)\n",
        "\n",
        "if __name__ == \"__main__\":\n",
        "    asyncio.run(main())"
      ],
      "metadata": {
        "colab": {
          "base_uri": "https://localhost:8080/"
        },
        "id": "tJMBkXlARZcK",
        "outputId": "65d56d48-a88f-4335-e00b-66c6dd86ba77"
      },
      "execution_count": 10,
      "outputs": [
        {
          "output_type": "stream",
          "name": "stdout",
          "text": [
            "Functions call themselves,  \n",
            "A loop with no end in sight,  \n",
            "Base case stops the fall.  \n",
            "\n",
            "Breaking down complex,  \n",
            "To smaller, simpler parts,  \n",
            "Solutions emerge clear.  \n",
            "\n",
            "Patience teaches you,  \n",
            "Infinite depths to explore,  \n",
            "Recursion’s art.\n"
          ]
        }
      ]
    },
    {
      "cell_type": "code",
      "source": [
        "response.json()"
      ],
      "metadata": {
        "colab": {
          "base_uri": "https://localhost:8080/"
        },
        "id": "GuXEJM9VScPh",
        "outputId": "96e1a8f9-9142-41f7-83b3-2258099da910"
      },
      "execution_count": 11,
      "outputs": [
        {
          "output_type": "execute_result",
          "data": {
            "text/plain": [
              "{'id': 'gen-1748861945-oxz1UjAggp4dAesi3aW0',\n",
              " 'provider': 'Chutes',\n",
              " 'model': 'deepseek/deepseek-chat:free',\n",
              " 'object': 'chat.completion',\n",
              " 'created': 1748861945,\n",
              " 'choices': [{'logprobs': None,\n",
              "   'finish_reason': 'stop',\n",
              "   'native_finish_reason': 'stop',\n",
              "   'index': 0,\n",
              "   'message': {'role': 'assistant',\n",
              "    'content': 'The meaning of life is a deeply philosophical question that has been pondered by thinkers, theologians, and individuals for centuries. There is no single, definitive answer, as it often depends on personal beliefs, cultural context, and individual experiences. Here are some perspectives:\\n\\n1. **Philosophical Perspectives**: Philosophers have proposed various ideas, such as seeking happiness (Aristotle), finding purpose through personal creation (Existentialism), or living in harmony with nature (Stoicism).\\n\\n2. **Religious Perspectives**: Many religions offer their own interpretations. For example, in Christianity, the purpose is often seen as loving God and others; in Buddhism, it’s about achieving enlightenment and ending suffering; in Islam, it’s about submitting to God’s will and living a life of righteousness.\\n\\n3. **Scientific Perspective**: From a biological standpoint, life’s purpose might be seen as survival and reproduction, ensuring the continuation of one’s genes.\\n\\n4. **Existential Perspective**: Some argue that life has no inherent meaning, and it’s up to each individual to create their own purpose through their actions, relationships, and passions.\\n\\n5. **Humanistic Perspective**: This view emphasizes personal growth, self-actualization, and contributing to the well-being of others as the essence of a meaningful life.\\n\\nUltimately, the meaning of life is a deeply personal question, and the answer may evolve over time as you grow and experience the world. What matters most is what gives *you* a sense of purpose and fulfillment.',\n",
              "    'refusal': None,\n",
              "    'reasoning': None}}],\n",
              " 'usage': {'prompt_tokens': 12,\n",
              "  'completion_tokens': 308,\n",
              "  'total_tokens': 320,\n",
              "  'prompt_tokens_details': None}}"
            ]
          },
          "metadata": {},
          "execution_count": 11
        }
      ]
    }
  ]
}