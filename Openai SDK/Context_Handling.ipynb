{
  "nbformat": 4,
  "nbformat_minor": 0,
  "metadata": {
    "colab": {
      "provenance": [],
      "authorship_tag": "ABX9TyPuHZfmndAGq8J7AULI4+Rl",
      "include_colab_link": true
    },
    "kernelspec": {
      "name": "python3",
      "display_name": "Python 3"
    },
    "language_info": {
      "name": "python"
    }
  },
  "cells": [
    {
      "cell_type": "markdown",
      "metadata": {
        "id": "view-in-github",
        "colab_type": "text"
      },
      "source": [
        "<a href=\"https://colab.research.google.com/github/beyg1/Q4/blob/main/Openai%20SDK/Context_Handling.ipynb\" target=\"_parent\"><img src=\"https://colab.research.google.com/assets/colab-badge.svg\" alt=\"Open In Colab\"/></a>"
      ]
    },
    {
      "cell_type": "code",
      "execution_count": 1,
      "metadata": {
        "id": "MuiH4qQplVaV",
        "colab": {
          "base_uri": "https://localhost:8080/"
        },
        "outputId": "0d110c75-a50c-4d00-f62e-5546aa0369a9"
      },
      "outputs": [
        {
          "output_type": "stream",
          "name": "stdout",
          "text": [
            "\u001b[2K     \u001b[90m━━━━━━━━━━━━━━━━━━━━━━━━━━━━━━━━━━━━━━━━\u001b[0m \u001b[32m40.1/40.1 kB\u001b[0m \u001b[31m1.4 MB/s\u001b[0m eta \u001b[36m0:00:00\u001b[0m\n",
            "\u001b[2K   \u001b[90m━━━━━━━━━━━━━━━━━━━━━━━━━━━━━━━━━━━━━━━━\u001b[0m \u001b[32m130.6/130.6 kB\u001b[0m \u001b[31m6.0 MB/s\u001b[0m eta \u001b[36m0:00:00\u001b[0m\n",
            "\u001b[2K   \u001b[90m━━━━━━━━━━━━━━━━━━━━━━━━━━━━━━━━━━━━━━━━\u001b[0m \u001b[32m129.3/129.3 kB\u001b[0m \u001b[31m11.6 MB/s\u001b[0m eta \u001b[36m0:00:00\u001b[0m\n",
            "\u001b[2K   \u001b[90m━━━━━━━━━━━━━━━━━━━━━━━━━━━━━━━━━━━━━━━━\u001b[0m \u001b[32m150.9/150.9 kB\u001b[0m \u001b[31m7.5 MB/s\u001b[0m eta \u001b[36m0:00:00\u001b[0m\n",
            "\u001b[2K   \u001b[90m━━━━━━━━━━━━━━━━━━━━━━━━━━━━━━━━━━━━━━━━\u001b[0m \u001b[32m45.2/45.2 kB\u001b[0m \u001b[31m4.4 MB/s\u001b[0m eta \u001b[36m0:00:00\u001b[0m\n",
            "\u001b[?25h"
          ]
        }
      ],
      "source": [
        "!pip install -Uq openai-agents"
      ]
    },
    {
      "cell_type": "code",
      "source": [
        "import nest_asyncio\n",
        "nest_asyncio.apply()"
      ],
      "metadata": {
        "id": "tEtXiW8qmzxZ"
      },
      "execution_count": 2,
      "outputs": []
    },
    {
      "cell_type": "code",
      "source": [
        "from pydantic import BaseModel\n",
        "from agents import (\n",
        "    OpenAIChatCompletionsModel,\n",
        "    RunConfig,\n",
        ")\n",
        "from openai import AsyncOpenAI\n",
        "from google.colab import userdata"
      ],
      "metadata": {
        "id": "IlJxAUKwnAY4"
      },
      "execution_count": 3,
      "outputs": []
    },
    {
      "cell_type": "code",
      "source": [
        "api = userdata.get('GOOGLE_API_KEY')\n",
        "if not api:\n",
        "   raise ValueError('GOOGLE_API_KEY not set')\n",
        "external_client = AsyncOpenAI(\n",
        "    api_key=api,\n",
        "    base_url=\"https://generativelanguage.googleapis.com/v1beta/openai/\",\n",
        ")"
      ],
      "metadata": {
        "id": "Mr3WkGRxoFKM"
      },
      "execution_count": 4,
      "outputs": []
    },
    {
      "cell_type": "code",
      "source": [
        "from agents import set_tracing_disabled\n",
        "model = OpenAIChatCompletionsModel(\n",
        "    openai_client = external_client,\n",
        "    model = \"gemini-2.0-flash\",\n",
        ")\n",
        "set_tracing_disabled(True)"
      ],
      "metadata": {
        "id": "cXzW51ASptXT"
      },
      "execution_count": 5,
      "outputs": []
    },
    {
      "cell_type": "code",
      "source": [
        "import asyncio\n",
        "from dataclasses import dataclass\n",
        "from agents import RunContextWrapper, Agent, Runner, function_tool\n",
        "\n",
        "@dataclass\n",
        "class User_base:\n",
        "  name: str\n",
        "  age: int\n",
        "\n",
        "@function_tool\n",
        "async def user_auth(wrapper : RunContextWrapper[User_base]) -> str:\n",
        "  '''Returns the details of the User(i.e Name & Age of User)'''\n",
        "  return f\"User {wrapper.context.name} is {wrapper.context.age} years old.\"\n",
        "\n",
        "async def main():\n",
        "  user_info = User_base(name=\"Ali\",age=20)\n",
        "\n",
        "  agent = Agent(\n",
        "      name = \"User Authentication\",\n",
        "      tools = [user_auth],\n",
        "      model = model,\n",
        "  )\n",
        "\n",
        "  result = await Runner.run(\n",
        "      starting_agent = agent,\n",
        "      input = \"share current user's details\",\n",
        "      context = user_info,\n",
        "      )\n",
        "  print(result.final_output)\n",
        "\n",
        "if __name__ == \"__main__\":\n",
        "    asyncio.run(main())"
      ],
      "metadata": {
        "colab": {
          "base_uri": "https://localhost:8080/"
        },
        "id": "t-h_Kgqdqrpb",
        "outputId": "73c09b89-f319-455c-827f-c0d79f232f8a"
      },
      "execution_count": 27,
      "outputs": [
        {
          "output_type": "stream",
          "name": "stdout",
          "text": [
            "OK. User Ali is 20 years old.\n",
            "\n"
          ]
        }
      ]
    }
  ]
}