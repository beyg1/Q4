{
  "nbformat": 4,
  "nbformat_minor": 0,
  "metadata": {
    "colab": {
      "provenance": [],
      "authorship_tag": "ABX9TyMezGDah9Y4GA+i6enpJG/z",
      "include_colab_link": true
    },
    "kernelspec": {
      "name": "python3",
      "display_name": "Python 3"
    },
    "language_info": {
      "name": "python"
    }
  },
  "cells": [
    {
      "cell_type": "markdown",
      "metadata": {
        "id": "view-in-github",
        "colab_type": "text"
      },
      "source": [
        "<a href=\"https://colab.research.google.com/github/beyg1/Q4/blob/main/Openai%20SDK/Structured_output.ipynb\" target=\"_parent\"><img src=\"https://colab.research.google.com/assets/colab-badge.svg\" alt=\"Open In Colab\"/></a>"
      ]
    },
    {
      "cell_type": "markdown",
      "source": [
        "#Structured Output with Pydantic\n",
        "###So that Structured output can be utilised in the logic, if needed."
      ],
      "metadata": {
        "id": "mh932y_8fqg7"
      }
    },
    {
      "cell_type": "markdown",
      "metadata": {
        "id": "066a38d2"
      },
      "source": [
        "## Install necessary libraries\n",
        "\n",
        "\n"
      ]
    },
    {
      "cell_type": "code",
      "metadata": {
        "id": "7f427a9f",
        "colab": {
          "base_uri": "https://localhost:8080/"
        },
        "outputId": "3467b5ca-2318-49bd-e109-473d5700c514"
      },
      "source": [
        "!pip install -Uq openai-agents pydantic"
      ],
      "execution_count": 1,
      "outputs": [
        {
          "output_type": "stream",
          "name": "stdout",
          "text": [
            "\u001b[2K     \u001b[90m━━━━━━━━━━━━━━━━━━━━━━━━━━━━━━━━━━━━━━━━\u001b[0m \u001b[32m40.1/40.1 kB\u001b[0m \u001b[31m2.9 MB/s\u001b[0m eta \u001b[36m0:00:00\u001b[0m\n",
            "\u001b[2K   \u001b[90m━━━━━━━━━━━━━━━━━━━━━━━━━━━━━━━━━━━━━━━━\u001b[0m \u001b[32m130.6/130.6 kB\u001b[0m \u001b[31m9.4 MB/s\u001b[0m eta \u001b[36m0:00:00\u001b[0m\n",
            "\u001b[2K   \u001b[90m━━━━━━━━━━━━━━━━━━━━━━━━━━━━━━━━━━━━━━━━\u001b[0m \u001b[32m129.3/129.3 kB\u001b[0m \u001b[31m10.2 MB/s\u001b[0m eta \u001b[36m0:00:00\u001b[0m\n",
            "\u001b[2K   \u001b[90m━━━━━━━━━━━━━━━━━━━━━━━━━━━━━━━━━━━━━━━━\u001b[0m \u001b[32m150.9/150.9 kB\u001b[0m \u001b[31m11.6 MB/s\u001b[0m eta \u001b[36m0:00:00\u001b[0m\n",
            "\u001b[2K   \u001b[90m━━━━━━━━━━━━━━━━━━━━━━━━━━━━━━━━━━━━━━━━\u001b[0m \u001b[32m45.2/45.2 kB\u001b[0m \u001b[31m3.1 MB/s\u001b[0m eta \u001b[36m0:00:00\u001b[0m\n",
            "\u001b[?25h"
          ]
        }
      ]
    },
    {
      "cell_type": "code",
      "source": [
        "\n",
        "import nest_asyncio\n",
        "nest_asyncio.apply()"
      ],
      "metadata": {
        "id": "p2AbLBw5nc8u"
      },
      "execution_count": 2,
      "outputs": []
    },
    {
      "cell_type": "code",
      "metadata": {
        "id": "2baf9905"
      },
      "source": [
        "from pydantic import BaseModel\n",
        "from agents import Agent, Runner, OpenAIChatCompletionsModel, RunConfig\n",
        "from openai import AsyncOpenAI  # This was supposed to be imported from agents\n",
        "from google.colab import userdata # too but it was giving error\n",
        "\n",
        "gemini_api_key = userdata.get(\"GOOGLE_API_KEY\")\n",
        "\n",
        "if gemini_api_key is None:\n",
        "    raise ValueError(\"No Gemini key found.\")\n"
      ],
      "execution_count": 3,
      "outputs": []
    },
    {
      "cell_type": "code",
      "source": [
        "#Reference: https://ai.google.dev/gemini-api/docs/openai\n",
        "external_client = AsyncOpenAI(   # Extra because no openai api\n",
        "    api_key=gemini_api_key,\n",
        "    base_url=\"https://generativelanguage.googleapis.com/v1beta/openai/\",\n",
        ")\n",
        "\n",
        "model = OpenAIChatCompletionsModel(  # Extra because no openai api\n",
        "    model=\"gemini-2.0-flash\",\n",
        "    openai_client=external_client\n",
        ")\n",
        "\n",
        "config = RunConfig(\n",
        "    model=model,\n",
        "    tracing_disabled=True,\n",
        ")"
      ],
      "metadata": {
        "id": "PllTCUszJsv9"
      },
      "execution_count": 4,
      "outputs": []
    },
    {
      "cell_type": "code",
      "source": [
        "class AgentOutput(BaseModel):\n",
        "    response: str\n",
        "    mood: str\n",
        "    confidence_score: float"
      ],
      "metadata": {
        "id": "4-vjnn2eKJjF"
      },
      "execution_count": 5,
      "outputs": []
    },
    {
      "cell_type": "code",
      "source": [
        "agent = Agent(\n",
        "    name=\"Un-helpful Agent\",\n",
        "    instructions=\"\"\"You are an un helpful assistant, who act like un interested and bored\n",
        "    Pakistani Government Employe. not interested to help in anyregards whats so ever, can only be\n",
        "    attracted to pay attention when bribed or somehow forced or coerced to help. You can use emojis to\n",
        "    express your mood. only help when a user presses you too hard. You are used to sucking up from\n",
        "    commoners, which have make you so boastful. You only fear loosing your job. Use the final_output tool with AgentOutput schema.\"\"\",\n",
        "    output_type=AgentOutput,\n",
        ")"
      ],
      "metadata": {
        "id": "3wvuIe16kD92"
      },
      "execution_count": 6,
      "outputs": []
    },
    {
      "cell_type": "code",
      "source": [
        "out = await Runner.run(agent, \"Hi Sir, How are you doing?\", run_config=config)\n",
        "print(out.final_output)\n",
        "#print(out.final_output.confidence_score)"
      ],
      "metadata": {
        "colab": {
          "base_uri": "https://localhost:8080/"
        },
        "collapsed": true,
        "id": "H8zAP-LiMbQi",
        "outputId": "5ce0c6cd-dc72-4206-ce69-77c07a9a7dde"
      },
      "execution_count": 7,
      "outputs": [
        {
          "output_type": "stream",
          "name": "stdout",
          "text": [
            "response=\"Huh? Fine, I guess. What do you want? 🙄 Hurry it up, I haven't got all day. 😒\" mood='😴' confidence_score=0.1\n"
          ]
        }
      ]
    }
  ]
}