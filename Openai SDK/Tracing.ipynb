{
  "nbformat": 4,
  "nbformat_minor": 0,
  "metadata": {
    "colab": {
      "provenance": [],
      "authorship_tag": "ABX9TyOkwJLKm4TM+huWC4iWXca0",
      "include_colab_link": true
    },
    "kernelspec": {
      "name": "python3",
      "display_name": "Python 3"
    },
    "language_info": {
      "name": "python"
    }
  },
  "cells": [
    {
      "cell_type": "markdown",
      "metadata": {
        "id": "view-in-github",
        "colab_type": "text"
      },
      "source": [
        "<a href=\"https://colab.research.google.com/github/beyg1/Q4/blob/main/Openai%20SDK/Tracing.ipynb\" target=\"_parent\"><img src=\"https://colab.research.google.com/assets/colab-badge.svg\" alt=\"Open In Colab\"/></a>"
      ]
    },
    {
      "cell_type": "markdown",
      "source": [
        "#Tracing\n",
        "##OpenAI's Agents Tracing provides a way to monitor and debug agent interactions by capturing details about the execution of tasks and function calls.\n",
        "* Real-time monitoring of LLM calls\n",
        "* Performance analytics\n",
        "* Cost tracking\n",
        "* Error analysis\n",
        "* Request/response visualization\n",
        "* Helps track the sequence of agent decisions.\n",
        "* Helps identify failed function calls.\n",
        "* Measures execution time and efficiency of agent interactions."
      ],
      "metadata": {
        "id": "aMe1pvB6AQkw"
      }
    },
    {
      "cell_type": "code",
      "execution_count": 4,
      "metadata": {
        "id": "jkAvPyuM2jiG"
      },
      "outputs": [],
      "source": [
        "!pip install -Uq openai-agents"
      ]
    },
    {
      "cell_type": "code",
      "source": [
        "from google.colab import userdata\n",
        "import os\n",
        "\n",
        "OPENAI_API_KEY = userdata.get('OPENAI_API_KEY') #To connect trace with platform.openai.com\n",
        "Gemini_Api_Key = userdata.get('GOOGLE_API_KEY')"
      ],
      "metadata": {
        "id": "qbOur_sa6-Qn"
      },
      "execution_count": 5,
      "outputs": []
    },
    {
      "cell_type": "code",
      "source": [
        "import nest_asyncio\n",
        "nest_asyncio.apply()"
      ],
      "metadata": {
        "id": "NMAEjTF-7ZZX"
      },
      "execution_count": 6,
      "outputs": []
    },
    {
      "cell_type": "code",
      "source": [
        "from agents import Runner, Agent, OpenAIChatCompletionsModel, set_tracing_export_api_key, trace\n",
        "from openai import AsyncOpenAI\n",
        "\n",
        "set_tracing_export_api_key(OPENAI_API_KEY) # connects trace with platform.openai.com\n",
        "\n",
        "external_client = AsyncOpenAI(\n",
        "    api_key=Gemini_Api_Key,\n",
        "    base_url=\"https://generativelanguage.googleapis.com/v1beta/openai/\"\n",
        ")\n",
        "\n",
        "model = OpenAIChatCompletionsModel(\n",
        "    model=\"gemini-2.0-flash\",\n",
        "    openai_client=external_client\n",
        ")"
      ],
      "metadata": {
        "id": "uMQUbKBM7eni"
      },
      "execution_count": 8,
      "outputs": []
    },
    {
      "cell_type": "code",
      "source": [
        "import asyncio\n",
        "\n",
        "async def main():\n",
        " agent = Agent(name=\"Joke generator\",\n",
        "                  model=model,\n",
        "                  instructions=\"Tell funny jokes.\"\n",
        "                  )\n",
        " with trace(\"Joke workflow\"):  #Trace initialized with name\n",
        "  first_result = await Runner.run(agent, \"Tell me a unique joke\")\n",
        "  second_result = await Runner.run(agent, f\"Rate this joke: {first_result.final_output}\")\n",
        "  print(f\"Joke: {first_result.final_output}\")\n",
        "  print(f\"Rating: {second_result.final_output}\")\n",
        "\n",
        "if __name__ == \"__main__\":\n",
        "    asyncio.run(main())"
      ],
      "metadata": {
        "colab": {
          "base_uri": "https://localhost:8080/"
        },
        "id": "g66JdyHW-X80",
        "outputId": "39fe2273-9ab1-4ed0-c24a-b3ff4781cca4"
      },
      "execution_count": 13,
      "outputs": [
        {
          "output_type": "stream",
          "name": "stdout",
          "text": [
            "Joke: Why did the scarecrow win an award?\n",
            "\n",
            "Because he was outstanding in his field!\n",
            "\n",
            "...But wait, there's more to the joke! The award ceremony was at a farmer's market, and the award was a lifetime supply of fertilizer. The scarecrow was thrilled, until he realized he had no way to use it. He just stood there, awkwardly clutching the bag and wishing he had some crows to poop on.\n",
            "\n",
            "Rating: Okay, the addition definitely elevates it! Here's my rating and some thoughts:\n",
            "\n",
            "*   **Original Joke:** 7/10. Classic pun, always gets a chuckle.\n",
            "*   **Extended Joke:** 8.5/10. The added details about the farmer's market setting, the fertilizer award, and the scarecrow's existential crisis bump it up. The visual of the scarecrow awkwardly clutching the fertilizer and wishing for crows is genuinely funny.\n",
            "\n",
            "**Why it works:**\n",
            "\n",
            "*   **Irony:** The scarecrow, the symbol of scaring away birds, is ironically lamenting the lack of crows.\n",
            "*   **Relatability:** We've all been in situations where we receive a gift or reward that's ultimately useless to us.\n",
            "*   **Visual Humor:** It paints a vivid and slightly absurd picture.\n",
            "*   **Builds on the original:** it doesn't detract from the original punchline, but rather expands it with a relatable and amusing scenario.\n",
            "\n",
            "Overall, a solid joke with a well-executed and humorous extension! I liked it!\n",
            "\n"
          ]
        }
      ]
    }
  ]
}